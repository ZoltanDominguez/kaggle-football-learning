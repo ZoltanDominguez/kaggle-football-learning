{
  "nbformat": 4,
  "nbformat_minor": 0,
  "metadata": {
    "colab": {
      "name": "gfootball_with_pfrl.ipynb",
      "provenance": [],
      "collapsed_sections": [],
      "toc_visible": true
    },
    "kernelspec": {
      "name": "python3",
      "display_name": "Python 3"
    },
    "accelerator": "GPU"
  },
  "cells": [
    {
      "cell_type": "markdown",
      "metadata": {
        "id": "yr1HwmkUsZbo"
      },
      "source": [
        "# Training and playing in Gfootball environment Reainforcement Learning"
      ]
    },
    {
      "cell_type": "markdown",
      "metadata": {
        "id": "-cOuJ6GSslc6"
      },
      "source": [
        "## Setting up Gfootball in Google Colab\r\n",
        "It is currently without render option, calling render will cause error!"
      ]
    },
    {
      "cell_type": "code",
      "metadata": {
        "colab": {
          "base_uri": "https://localhost:8080/"
        },
        "id": "vdohmqLhiBtt",
        "outputId": "c17a21c4-2652-43ff-c6ee-faa5c7bae259"
      },
      "source": [
        "!apt-get update\r\n",
        "!apt-get install libsdl2-gfx-dev libsdl2-ttf-dev\r\n",
        "\r\n",
        "# Make sure that the Branch in git clone and in wget call matches !!\r\n",
        "!git clone -b v2.8 https://github.com/google-research/football.git\r\n",
        "!mkdir -p football/third_party/gfootball_engine/lib\r\n",
        "\r\n",
        "!wget https://storage.googleapis.com/gfootball/prebuilt_gameplayfootball_v2.6.so -O football/third_party/gfootball_engine/lib/prebuilt_gameplayfootball.so\r\n",
        "!cd football && GFOOTBALL_USE_PREBUILT_SO=1 pip3 install ."
      ],
      "execution_count": 1,
      "outputs": [
        {
          "output_type": "stream",
          "text": [
            "\r0% [Working]\r            \rHit:1 https://cloud.r-project.org/bin/linux/ubuntu bionic-cran40/ InRelease\n",
            "Hit:2 http://security.ubuntu.com/ubuntu bionic-security InRelease\n",
            "Ign:3 https://developer.download.nvidia.com/compute/cuda/repos/ubuntu1804/x86_64  InRelease\n",
            "Hit:4 http://ppa.launchpad.net/c2d4u.team/c2d4u4.0+/ubuntu bionic InRelease\n",
            "Ign:5 https://developer.download.nvidia.com/compute/machine-learning/repos/ubuntu1804/x86_64  InRelease\n",
            "Hit:6 https://developer.download.nvidia.com/compute/cuda/repos/ubuntu1804/x86_64  Release\n",
            "Hit:7 https://developer.download.nvidia.com/compute/machine-learning/repos/ubuntu1804/x86_64  Release\n",
            "Hit:8 http://archive.ubuntu.com/ubuntu bionic InRelease\n",
            "Hit:9 http://ppa.launchpad.net/graphics-drivers/ppa/ubuntu bionic InRelease\n",
            "Hit:10 http://archive.ubuntu.com/ubuntu bionic-updates InRelease\n",
            "Hit:11 http://archive.ubuntu.com/ubuntu bionic-backports InRelease\n",
            "Reading package lists... Done\n",
            "Reading package lists... Done\n",
            "Building dependency tree       \n",
            "Reading state information... Done\n",
            "libsdl2-gfx-dev is already the newest version (1.0.4+dfsg-1).\n",
            "libsdl2-ttf-dev is already the newest version (2.0.14+dfsg1-2).\n",
            "0 upgraded, 0 newly installed, 0 to remove and 59 not upgraded.\n",
            "fatal: destination path 'football' already exists and is not an empty directory.\n",
            "--2020-12-19 09:43:20--  https://storage.googleapis.com/gfootball/prebuilt_gameplayfootball_v2.6.so\n",
            "Resolving storage.googleapis.com (storage.googleapis.com)... 172.253.122.128, 142.250.73.208, 142.250.31.128, ...\n",
            "Connecting to storage.googleapis.com (storage.googleapis.com)|172.253.122.128|:443... connected.\n",
            "HTTP request sent, awaiting response... 200 OK\n",
            "Length: 45244080 (43M) [application/octet-stream]\n",
            "Saving to: ‘football/third_party/gfootball_engine/lib/prebuilt_gameplayfootball.so’\n",
            "\n",
            "football/third_part 100%[===================>]  43.15M   211MB/s    in 0.2s    \n",
            "\n",
            "2020-12-19 09:43:20 (211 MB/s) - ‘football/third_party/gfootball_engine/lib/prebuilt_gameplayfootball.so’ saved [45244080/45244080]\n",
            "\n",
            "Processing /content/football\n",
            "Requirement already satisfied: pygame==1.9.6 in /usr/local/lib/python3.6/dist-packages (from gfootball==2.8) (1.9.6)\n",
            "Requirement already satisfied: opencv-python in /usr/local/lib/python3.6/dist-packages (from gfootball==2.8) (4.1.2.30)\n",
            "Requirement already satisfied: scipy in /usr/local/lib/python3.6/dist-packages (from gfootball==2.8) (1.4.1)\n",
            "Requirement already satisfied: gym>=0.11.0 in /usr/local/lib/python3.6/dist-packages (from gfootball==2.8) (0.17.3)\n",
            "Requirement already satisfied: absl-py in /usr/local/lib/python3.6/dist-packages (from gfootball==2.8) (0.10.0)\n",
            "Requirement already satisfied: wheel in /usr/local/lib/python3.6/dist-packages (from gfootball==2.8) (0.36.2)\n",
            "Requirement already satisfied: numpy>=1.11.3 in /usr/local/lib/python3.6/dist-packages (from opencv-python->gfootball==2.8) (1.19.4)\n",
            "Requirement already satisfied: pyglet<=1.5.0,>=1.4.0 in /usr/local/lib/python3.6/dist-packages (from gym>=0.11.0->gfootball==2.8) (1.5.0)\n",
            "Requirement already satisfied: cloudpickle<1.7.0,>=1.2.0 in /usr/local/lib/python3.6/dist-packages (from gym>=0.11.0->gfootball==2.8) (1.3.0)\n",
            "Requirement already satisfied: six in /usr/local/lib/python3.6/dist-packages (from absl-py->gfootball==2.8) (1.15.0)\n",
            "Requirement already satisfied: future in /usr/local/lib/python3.6/dist-packages (from pyglet<=1.5.0,>=1.4.0->gym>=0.11.0->gfootball==2.8) (0.16.0)\n",
            "Building wheels for collected packages: gfootball\n",
            "  Building wheel for gfootball (setup.py) ... \u001b[?25l\u001b[?25hdone\n",
            "  Created wheel for gfootball: filename=gfootball-2.8-cp36-cp36m-linux_x86_64.whl size=38698019 sha256=016399242ba49d6480cbaaabae4bc91a03443c079258b4213adf9b7e043e4aa8\n",
            "  Stored in directory: /tmp/pip-ephem-wheel-cache-rfpiv6c6/wheels/41/ad/ae/8cf1d92b8694b10187e5daf33e8d5c248ffa5437e234ccbbee\n",
            "Successfully built gfootball\n",
            "Installing collected packages: gfootball\n",
            "  Found existing installation: gfootball 2.8\n",
            "    Uninstalling gfootball-2.8:\n",
            "      Successfully uninstalled gfootball-2.8\n",
            "Successfully installed gfootball-2.8\n"
          ],
          "name": "stdout"
        }
      ]
    },
    {
      "cell_type": "markdown",
      "metadata": {
        "id": "8BbZgULXs-Ks"
      },
      "source": [
        "Creating environment and trying some basic testing in the environment"
      ]
    },
    {
      "cell_type": "code",
      "metadata": {
        "colab": {
          "base_uri": "https://localhost:8080/"
        },
        "id": "NaaUHJ5siHg8",
        "outputId": "3a260f5a-a974-485f-bb86-42fb49ce425b"
      },
      "source": [
        "import gfootball.env as football_env\r\n",
        "env = football_env.create_environment(env_name=\"11_vs_11_stochastic\", # academy_empty_goal_close\r\n",
        "                                      rewards='checkpoints,scoring', # space between them is not allowed!\r\n",
        "                                      stacked=False, \r\n",
        "                                      logdir='/tmp/football', \r\n",
        "                                      write_goal_dumps=False, \r\n",
        "                                      write_full_episode_dumps=False, \r\n",
        "                                      render=False)\r\n",
        "\r\n",
        "env.reset()\r\n",
        "steps = 0\r\n",
        "while True:\r\n",
        "  obs, rew, done, info = env.step(env.action_space.sample())\r\n",
        "  steps += 1\r\n",
        "  if steps % 100 == 0:\r\n",
        "    print(\"Step %d Reward: %f\" % (steps, rew))\r\n",
        "  if done or steps>200:\r\n",
        "    break\r\n",
        "\r\n",
        "print(\"Steps: %d Reward: %.2f\" % (steps, rew))"
      ],
      "execution_count": 2,
      "outputs": [
        {
          "output_type": "stream",
          "text": [
            "Step 100 Reward: 0.000000\n",
            "Step 200 Reward: 0.000000\n",
            "Steps: 201 Reward: 0.00\n"
          ],
          "name": "stdout"
        }
      ]
    },
    {
      "cell_type": "markdown",
      "metadata": {
        "id": "3McdTza3jCag"
      },
      "source": [
        "## Basic setup for PFRL library\r\n",
        "* PFRL library can be found at: https://github.com/pfnet/pfrl\r\n",
        "* The library uses pytorch models and have a high level Rainbow DQN implementation.\r\n",
        "> Rainbow DQN performed extremely well in many atari games on pixel input, so i am assuming it will work in SMM representation as well.\r\n",
        "> * You can read paper at: https://arxiv.org/pdf/1710.02298.pdf"
      ]
    },
    {
      "cell_type": "markdown",
      "metadata": {
        "id": "2Txh8TOjj54T"
      },
      "source": [
        "Some of the code used in this notebook is taken from kaggle competition notebook. \r\n",
        "\r\n",
        "---\r\n",
        "\r\n",
        "https://www.kaggle.com/kuto0633/gfootball-rainbow-dqn-pfrl"
      ]
    },
    {
      "cell_type": "code",
      "metadata": {
        "colab": {
          "base_uri": "https://localhost:8080/"
        },
        "id": "C3S0rYAriRrJ",
        "outputId": "2b293747-5af8-4417-dad1-f6acf14371dd"
      },
      "source": [
        "!pip install pfrl==0.1.0"
      ],
      "execution_count": 3,
      "outputs": [
        {
          "output_type": "stream",
          "text": [
            "Requirement already satisfied: pfrl==0.1.0 in /usr/local/lib/python3.6/dist-packages (0.1.0)\n",
            "Requirement already satisfied: numpy>=1.10.4 in /usr/local/lib/python3.6/dist-packages (from pfrl==0.1.0) (1.19.4)\n",
            "Requirement already satisfied: torch>=1.3.0 in /usr/local/lib/python3.6/dist-packages (from pfrl==0.1.0) (1.7.0+cu101)\n",
            "Requirement already satisfied: gym>=0.9.7 in /usr/local/lib/python3.6/dist-packages (from pfrl==0.1.0) (0.17.3)\n",
            "Requirement already satisfied: pillow in /usr/local/lib/python3.6/dist-packages (from pfrl==0.1.0) (7.0.0)\n",
            "Requirement already satisfied: future in /usr/local/lib/python3.6/dist-packages (from torch>=1.3.0->pfrl==0.1.0) (0.16.0)\n",
            "Requirement already satisfied: dataclasses in /usr/local/lib/python3.6/dist-packages (from torch>=1.3.0->pfrl==0.1.0) (0.8)\n",
            "Requirement already satisfied: typing-extensions in /usr/local/lib/python3.6/dist-packages (from torch>=1.3.0->pfrl==0.1.0) (3.7.4.3)\n",
            "Requirement already satisfied: cloudpickle<1.7.0,>=1.2.0 in /usr/local/lib/python3.6/dist-packages (from gym>=0.9.7->pfrl==0.1.0) (1.3.0)\n",
            "Requirement already satisfied: scipy in /usr/local/lib/python3.6/dist-packages (from gym>=0.9.7->pfrl==0.1.0) (1.4.1)\n",
            "Requirement already satisfied: pyglet<=1.5.0,>=1.4.0 in /usr/local/lib/python3.6/dist-packages (from gym>=0.9.7->pfrl==0.1.0) (1.5.0)\n"
          ],
          "name": "stdout"
        }
      ]
    },
    {
      "cell_type": "code",
      "metadata": {
        "colab": {
          "base_uri": "https://localhost:8080/"
        },
        "id": "LSGR6G3zHRDu",
        "outputId": "c2c68232-940d-43e5-9202-4b2f857f977e"
      },
      "source": [
        "!pip show torch"
      ],
      "execution_count": 4,
      "outputs": [
        {
          "output_type": "stream",
          "text": [
            "Name: torch\n",
            "Version: 1.7.0+cu101\n",
            "Summary: Tensors and Dynamic neural networks in Python with strong GPU acceleration\n",
            "Home-page: https://pytorch.org/\n",
            "Author: PyTorch Team\n",
            "Author-email: packages@pytorch.org\n",
            "License: BSD-3\n",
            "Location: /usr/local/lib/python3.6/dist-packages\n",
            "Requires: numpy, typing-extensions, future, dataclasses\n",
            "Required-by: torchvision, torchtext, pfrl, fastai\n"
          ],
          "name": "stdout"
        }
      ]
    },
    {
      "cell_type": "markdown",
      "metadata": {
        "id": "_Go8MvdJjfo3"
      },
      "source": [
        "Check if we have GPU"
      ]
    },
    {
      "cell_type": "code",
      "metadata": {
        "colab": {
          "base_uri": "https://localhost:8080/"
        },
        "id": "K6p9CM8OjI2X",
        "outputId": "af46a3a0-255e-418a-b30c-81e93e60ad5d"
      },
      "source": [
        "import torch\r\n",
        "# Check we can use GPU\r\n",
        "print(torch.cuda.is_available())\r\n",
        "\r\n",
        "if torch.cuda.is_available(): \r\n",
        "    # GPU id starting from 0\r\n",
        "    gpu = 0\r\n",
        "else:\r\n",
        "    gpu = -1 # it will use only CPU"
      ],
      "execution_count": 5,
      "outputs": [
        {
          "output_type": "stream",
          "text": [
            "True\n"
          ],
          "name": "stdout"
        }
      ]
    },
    {
      "cell_type": "markdown",
      "metadata": {
        "id": "VZKxdCoMkn1W"
      },
      "source": [
        "Init Logger"
      ]
    },
    {
      "cell_type": "code",
      "metadata": {
        "id": "aMd7UmNAjKKl"
      },
      "source": [
        "from logging import getLogger, StreamHandler, FileHandler, DEBUG, INFO\r\n",
        "\r\n",
        "# set logger\r\n",
        "def logger_config():\r\n",
        "    logger = getLogger(__name__)\r\n",
        "    handler = StreamHandler()\r\n",
        "    handler.setLevel(\"DEBUG\")\r\n",
        "    logger.setLevel(\"DEBUG\")\r\n",
        "    logger.addHandler(handler)\r\n",
        "    logger.propagate = False\r\n",
        "\r\n",
        "    filepath = './result.log'\r\n",
        "    file_handler = FileHandler(filepath)\r\n",
        "    logger.addHandler(file_handler)\r\n",
        "    return logger\r\n",
        "\r\n",
        "logger = logger_config()"
      ],
      "execution_count": 6,
      "outputs": []
    },
    {
      "cell_type": "markdown",
      "metadata": {
        "id": "-XlfytcuqII1"
      },
      "source": [
        "Seed every random seed value"
      ]
    },
    {
      "cell_type": "code",
      "metadata": {
        "id": "NhuJVYwajKHV"
      },
      "source": [
        "from pfrl import utils\r\n",
        "import random\r\n",
        "import numpy as np\r\n",
        "\r\n",
        "def seed_everything(seed=1234):\r\n",
        "    random.seed(seed)\r\n",
        "    np.random.seed(seed)\r\n",
        "    torch.manual_seed(seed)\r\n",
        "    torch.cuda.manual_seed(seed)\r\n",
        "    torch.backends.cudnn.deterministic = True\r\n",
        "    utils.set_random_seed(seed)  # for PFRL\r\n",
        "    \r\n",
        "seed = 5046\r\n",
        "seed_everything(seed)\r\n",
        "\r\n",
        "# Set different random seeds for train and test envs.\r\n",
        "train_seed = seed\r\n",
        "test_seed = seed + 100"
      ],
      "execution_count": 7,
      "outputs": []
    },
    {
      "cell_type": "markdown",
      "metadata": {
        "id": "Sli3lAfNqjRm"
      },
      "source": [
        "## Creating Environment Wrapper(s)\r\n",
        "Read about Wrappers and their use at:\r\n",
        "https://alexandervandekleut.github.io/gym-wrappers/"
      ]
    },
    {
      "cell_type": "code",
      "metadata": {
        "colab": {
          "base_uri": "https://localhost:8080/"
        },
        "id": "ecsRtiYHq5GS",
        "outputId": "f812b675-2b5e-4fe9-bbe0-c36f202ca10f"
      },
      "source": [
        "env.observation_space.shape"
      ],
      "execution_count": 8,
      "outputs": [
        {
          "output_type": "execute_result",
          "data": {
            "text/plain": [
              "(72, 96, 4)"
            ]
          },
          "metadata": {
            "tags": []
          },
          "execution_count": 8
        }
      ]
    },
    {
      "cell_type": "code",
      "metadata": {
        "id": "TwgViDupjKEH"
      },
      "source": [
        "import gym\r\n",
        "import cv2\r\n",
        "from gym import spaces\r\n",
        "\r\n",
        "# I modified only the observation (resize and transpose channel order)\r\n",
        "class TransEnv(gym.ObservationWrapper):\r\n",
        "    def __init__(self, env, channel_order=\"hwc\"):\r\n",
        "\r\n",
        "        gym.ObservationWrapper.__init__(self, env)\r\n",
        "        self.height = 84\r\n",
        "        self.width = 84\r\n",
        "        self.ch = env.observation_space.shape[2]\r\n",
        "        shape = {\r\n",
        "            \"hwc\": (self.height, self.width, self.ch),\r\n",
        "            \"chw\": (self.ch, self.height, self.width),\r\n",
        "        }\r\n",
        "        self.observation_space = spaces.Box(\r\n",
        "            low=0, high=255, shape=shape[channel_order], dtype=np.uint8\r\n",
        "        )\r\n",
        "        \r\n",
        "\r\n",
        "    def observation(self, frame):\r\n",
        "        frame = cv2.resize(frame, (self.width, self.height), interpolation=cv2.INTER_AREA)\r\n",
        "        return frame.reshape(self.observation_space.low.shape)"
      ],
      "execution_count": 9,
      "outputs": []
    },
    {
      "cell_type": "markdown",
      "metadata": {
        "id": "ZEKjJZtku9M0"
      },
      "source": [
        ""
      ]
    },
    {
      "cell_type": "code",
      "metadata": {
        "colab": {
          "base_uri": "https://localhost:8080/"
        },
        "id": "eplQC2gPjJ6n",
        "outputId": "ca116c90-887c-4886-a7d7-85969af33c11"
      },
      "source": [
        "import pfrl\r\n",
        "\r\n",
        "def make_env(test, epsilon):   \r\n",
        "\r\n",
        "    env = football_env.create_environment(\r\n",
        "      env_name='11_vs_11_easy_stochastic',  # easy mode\r\n",
        "      stacked=False,\r\n",
        "      representation='extracted',  # SMM\r\n",
        "      rewards='checkpoints,scoring', # space between them is not allowed!\r\n",
        "      write_goal_dumps=False,\r\n",
        "      write_full_episode_dumps=False,\r\n",
        "      render=False,\r\n",
        "      write_video=False,\r\n",
        "      dump_frequency=1,\r\n",
        "      logdir='/tmp/football',\r\n",
        "      extra_players=None,\r\n",
        "      number_of_left_players_agent_controls=1,\r\n",
        "      number_of_right_players_agent_controls=0\r\n",
        "    )\r\n",
        "\r\n",
        "    # Using Observation Wrapper\r\n",
        "    env = TransEnv(env, channel_order=\"chw\")\r\n",
        "\r\n",
        "    # Use different random seeds for train and test envs\r\n",
        "    env_seed = test_seed if test else train_seed\r\n",
        "    env.seed(env_seed)\r\n",
        "    \r\n",
        "    # If rand call is smaller than random_fraction, it acts random.\r\n",
        "    env = pfrl.wrappers.RandomizeAction(env, random_fraction=epsilon)\r\n",
        "\r\n",
        "    return env\r\n",
        "\r\n",
        "env = make_env(test=False, epsilon = 0.1) # take random action with 0.1 probability - epsilon greedy\r\n",
        "eval_env = make_env(test=True, epsilon = 0) # Evaluate on greedy policy\r\n",
        "\r\n",
        "print('Observation space:', env.observation_space.low.shape)\r\n",
        "print('Action space:', env.action_space)"
      ],
      "execution_count": 10,
      "outputs": [
        {
          "output_type": "stream",
          "text": [
            "Observation space: (4, 84, 84)\n",
            "Action space: Discrete(19)\n"
          ],
          "name": "stdout"
        }
      ]
    },
    {
      "cell_type": "markdown",
      "metadata": {
        "id": "tcQTqHPR5K5K"
      },
      "source": [
        "We can see above that the observation space changed according to our ObservationWrapper"
      ]
    },
    {
      "cell_type": "markdown",
      "metadata": {
        "id": "rstkWVKr6msb"
      },
      "source": [
        "Testing the Wrapped environment:"
      ]
    },
    {
      "cell_type": "code",
      "metadata": {
        "colab": {
          "base_uri": "https://localhost:8080/"
        },
        "id": "Zbd8RvdGu77r",
        "outputId": "04d1e26d-cb1a-4002-82cc-d14b8ddb2cd4"
      },
      "source": [
        "env.reset()\r\n",
        "action = env.action_space.sample()\r\n",
        "obs, r, done, info = env.step(action)\r\n",
        "print('next observation:', obs.shape)\r\n",
        "print('reward:', r)\r\n",
        "print('done:', done)\r\n",
        "print('info:', info)"
      ],
      "execution_count": 11,
      "outputs": [
        {
          "output_type": "stream",
          "text": [
            "next observation: (4, 84, 84)\n",
            "reward: 0.0\n",
            "done: False\n",
            "info: {'score_reward': 0}\n"
          ],
          "name": "stdout"
        }
      ]
    },
    {
      "cell_type": "markdown",
      "metadata": {
        "id": "h_94LBgR6wHC"
      },
      "source": [
        "## Create the model"
      ]
    },
    {
      "cell_type": "markdown",
      "metadata": {
        "id": "ec91yKHZ7Jns"
      },
      "source": [
        "Making a DistributionalDuelingDQN"
      ]
    },
    {
      "cell_type": "code",
      "metadata": {
        "colab": {
          "base_uri": "https://localhost:8080/"
        },
        "id": "BX1MZdUju75T",
        "outputId": "36e411a4-1920-448d-bb9b-afed0addd692"
      },
      "source": [
        "from pfrl.q_functions import DistributionalDuelingDQN\r\n",
        "\r\n",
        "obs_n_channels = env.observation_space.low.shape[0] # 4 channels for SMM\r\n",
        "n_actions = env.action_space.n # 19 for Gfootball\r\n",
        "print(\"obs_n_channels: \", obs_n_channels)\r\n",
        "print(\"n_actions: \", n_actions)\r\n",
        "\r\n",
        "# params based the original paper\r\n",
        "n_atoms = 51\r\n",
        "v_max = 10\r\n",
        "v_min = -10\r\n",
        "q_func = DistributionalDuelingDQN(n_actions, n_atoms, v_min, v_max, obs_n_channels)\r\n",
        "print(q_func)"
      ],
      "execution_count": 12,
      "outputs": [
        {
          "output_type": "stream",
          "text": [
            "obs_n_channels:  4\n",
            "n_actions:  19\n",
            "DistributionalDuelingDQN(\n",
            "  (conv_layers): ModuleList(\n",
            "    (0): Conv2d(4, 32, kernel_size=(8, 8), stride=(4, 4))\n",
            "    (1): Conv2d(32, 64, kernel_size=(4, 4), stride=(2, 2))\n",
            "    (2): Conv2d(64, 64, kernel_size=(3, 3), stride=(1, 1))\n",
            "  )\n",
            "  (main_stream): Linear(in_features=3136, out_features=1024, bias=True)\n",
            "  (a_stream): Linear(in_features=512, out_features=969, bias=True)\n",
            "  (v_stream): Linear(in_features=512, out_features=51, bias=True)\n",
            ")\n"
          ],
          "name": "stdout"
        }
      ]
    },
    {
      "cell_type": "markdown",
      "metadata": {
        "id": "xI5SlrYIDW1N"
      },
      "source": [
        "Replay Buffer and optimizer hyperparameters"
      ]
    },
    {
      "cell_type": "code",
      "metadata": {
        "id": "INLG8a4cu72F"
      },
      "source": [
        "from pfrl import nn as pnn\r\n",
        "from pfrl import replay_buffers\r\n",
        "from pfrl import explorers\r\n",
        "\r\n",
        "# Noisy nets\r\n",
        "pnn.to_factorized_noisy(q_func, sigma_scale=0.5)\r\n",
        "\r\n",
        "\r\n",
        "def random_action_func():\r\n",
        "    return env.action_space.sample()\r\n",
        "# Turn off explorer\r\n",
        "# explorer = explorers.Greedy()\r\n",
        "explorer = explorers.ConstantEpsilonGreedy(epsilon=0.05, random_action_func=random_action_func)\r\n",
        "# Trying out Decaying Epsiolon algorithms with bigger training loops could be nice idea\r\n",
        "\r\n",
        "# Use the same hyper parameters as https://arxiv.org/abs/1710.02298\r\n",
        "opt = torch.optim.Adam(q_func.parameters(), 6.25e-5, eps=1.5 * 10 ** -4)\r\n",
        "\r\n",
        "# Prioritized Replay Buffer\r\n",
        "# Anneal beta from beta0 to 1 throughout training\r\n",
        "update_interval = 4\r\n",
        "betasteps = 2e7 # default value: betasteps=2e5 \r\n",
        "rbuf = replay_buffers.PrioritizedReplayBuffer(\r\n",
        "        10 ** 6,  # Default value is 10 ** 6\r\n",
        "        alpha=0.5,\r\n",
        "        beta0=0.4,\r\n",
        "        betasteps=betasteps, # default value: betasteps=2e5 \r\n",
        "        num_steps=3,\r\n",
        "        eps=0.01,\r\n",
        "        normalize_by_max=\"memory\",\r\n",
        "    )\r\n",
        "\r\n",
        "\r\n",
        "def phi(x):\r\n",
        "    # Feature extractor\r\n",
        "    return np.asarray(x, dtype=np.float32) / 255"
      ],
      "execution_count": 13,
      "outputs": []
    },
    {
      "cell_type": "markdown",
      "metadata": {
        "id": "KCSers2wDeL4"
      },
      "source": [
        "Agent hyperparameters"
      ]
    },
    {
      "cell_type": "code",
      "metadata": {
        "id": "Qcnx10Vnu7zg"
      },
      "source": [
        "from pfrl.agents import CategoricalDoubleDQN\r\n",
        "\r\n",
        "replay_start_size = 50000 # default 50000\r\n",
        "\r\n",
        "agent = CategoricalDoubleDQN(\r\n",
        "        q_function=q_func,\r\n",
        "        optimizer=opt,\r\n",
        "        replay_buffer=rbuf,\r\n",
        "        gpu=gpu,  \r\n",
        "        gamma=0.99,\r\n",
        "        explorer=explorer,\r\n",
        "        minibatch_size=32,\r\n",
        "        replay_start_size=replay_start_size,\r\n",
        "        target_update_interval=10000,\r\n",
        "        update_interval=update_interval,\r\n",
        "        batch_accumulator=\"sum\",\r\n",
        "        phi=phi,\r\n",
        "    )"
      ],
      "execution_count": 14,
      "outputs": []
    },
    {
      "cell_type": "markdown",
      "metadata": {
        "id": "MSUbsI32Dork"
      },
      "source": [
        "Load previous model if there are any\r\n",
        "\r\n",
        "\r\n",
        "---\r\n",
        "\r\n",
        "\r\n",
        "Using the Best previous weight is like an early stopping method"
      ]
    },
    {
      "cell_type": "markdown",
      "metadata": {
        "id": "2izZ-SXMY4oc"
      },
      "source": [
        "Hint: Sometimes loading model or training fails due to some error. The error seems to be pytorch related, restarting the runtime and running the cells again solves the issue."
      ]
    },
    {
      "cell_type": "code",
      "metadata": {
        "id": "SyeIteFTu7sP"
      },
      "source": [
        "outputdir=\"./agents/agent\"\r\n",
        "\r\n",
        "\r\n",
        "use_pretrained = True\r\n",
        "pretrained_path = \"./agents/agent/best\"\r\n",
        "pretrained_path = \"./actual_state\"\r\n",
        "\r\n",
        "if use_pretrained:\r\n",
        "    agent.load(pretrained_path)\r\n"
      ],
      "execution_count": 15,
      "outputs": []
    },
    {
      "cell_type": "code",
      "metadata": {
        "colab": {
          "base_uri": "https://localhost:8080/"
        },
        "id": "RexXqS2UW1bu",
        "outputId": "2b11c70a-0be0-470f-8856-29b007a8a738"
      },
      "source": [
        "try:\r\n",
        "    print(agent.loss_record.pop())\r\n",
        "except:\r\n",
        "    print('No loss record')"
      ],
      "execution_count": 16,
      "outputs": [
        {
          "output_type": "stream",
          "text": [
            "No loss record\n"
          ],
          "name": "stdout"
        }
      ]
    },
    {
      "cell_type": "markdown",
      "metadata": {
        "id": "v4D5AKLAZWDU"
      },
      "source": [
        "## Training the model"
      ]
    },
    {
      "cell_type": "code",
      "metadata": {
        "id": "khZvz704Dtby"
      },
      "source": [
        "from pfrl import experiments\r\n",
        "import torch\r\n",
        "\r\n",
        "\r\n",
        "def train():\r\n",
        "    experiments.train_agent_with_evaluation(\r\n",
        "        agent=agent,\r\n",
        "        env=env,\r\n",
        "        steps=121100,\r\n",
        "        eval_n_steps=None,\r\n",
        "        eval_n_episodes=50,\r\n",
        "        eval_interval=20000,\r\n",
        "        outdir=outputdir,\r\n",
        "        save_best_so_far_agent=True,\r\n",
        "        eval_env=eval_env,\r\n",
        "        logger=getLogger()\r\n",
        "    )\r\n",
        "\r\n",
        "%time train()"
      ],
      "execution_count": null,
      "outputs": []
    },
    {
      "cell_type": "markdown",
      "metadata": {
        "id": "DI3qwtRLTLo1"
      },
      "source": [
        "Code for saving the best model locally. It makes a zip file, which can be downloaded."
      ]
    },
    {
      "cell_type": "code",
      "metadata": {
        "colab": {
          "base_uri": "https://localhost:8080/"
        },
        "id": "SjRemeqRSugV",
        "outputId": "9d83f548-e7c0-467d-adfc-5c20154186a1"
      },
      "source": [
        "#!zip -r ./model.zip ./agents/agent/best\r\n",
        "!zip -r ./model2.zip ./actual_state"
      ],
      "execution_count": null,
      "outputs": [
        {
          "output_type": "stream",
          "text": [
            "  adding: actual_state/ (stored 0%)\n",
            "  adding: actual_state/model.pt (deflated 54%)\n",
            "  adding: actual_state/target_model.pt (deflated 54%)\n",
            "  adding: actual_state/optimizer.pt (deflated 44%)\n"
          ],
          "name": "stdout"
        }
      ]
    },
    {
      "cell_type": "markdown",
      "metadata": {
        "id": "8F1Y_Od7rv6q"
      },
      "source": [
        "Save the model"
      ]
    },
    {
      "cell_type": "code",
      "metadata": {
        "id": "brOXULVHrttL"
      },
      "source": [
        "agent.save('actual_state')\r\n"
      ],
      "execution_count": 46,
      "outputs": []
    },
    {
      "cell_type": "markdown",
      "metadata": {
        "id": "rczACAtDZcI4"
      },
      "source": [
        "## Evaluation"
      ]
    },
    {
      "cell_type": "markdown",
      "metadata": {
        "id": "S_OiM_VBZhjP"
      },
      "source": [
        "### Appending and evaluating results manually"
      ]
    },
    {
      "cell_type": "code",
      "metadata": {
        "colab": {
          "base_uri": "https://localhost:8080/"
        },
        "id": "X9gglgISNxrH",
        "outputId": "c6fdb01e-e603-4b79-dd2c-69c5bbfd6418"
      },
      "source": [
        "from pfrl import experiments\r\n",
        "\r\n",
        "print(agent.get_statistics())\r\n",
        "# agent.save('actual_state')\r\n",
        "\r\n",
        "# Turn of exploration with Greedy algorithm\r\n",
        "agent.explorer = explorers.Greedy()\r\n",
        "stats = experiments.eval_performance(eval_env,agent,None, 10, 1000,logger)\r\n",
        "# Set back if we training further\r\n",
        "agent.explorer = explorers.ConstantEpsilonGreedy(epsilon=0.05, random_action_func=random_action_func)\r\n",
        "\r\n",
        "print(stats)"
      ],
      "execution_count": 42,
      "outputs": [
        {
          "output_type": "stream",
          "text": [
            "[('average_q', nan), ('average_loss', 118.01401710510254), ('cumulative_steps', 133200), ('n_updates', 20800), ('rlen', 133198)]\n"
          ],
          "name": "stdout"
        },
        {
          "output_type": "stream",
          "text": [
            "evaluation episode 0 length:1000 R:-0.7999999970197678\n",
            "evaluation episode 1 length:1000 R:0.0\n",
            "evaluation episode 2 length:1000 R:0.10000000149011612\n",
            "evaluation episode 3 length:1000 R:0.0\n",
            "evaluation episode 4 length:1000 R:-0.7999999970197678\n",
            "evaluation episode 5 length:1000 R:-0.6999999955296516\n",
            "evaluation episode 6 length:1000 R:-0.29999998211860657\n",
            "evaluation episode 7 length:1000 R:0.10000000149011612\n",
            "evaluation episode 8 length:1000 R:-2.899999998509884\n",
            "evaluation episode 9 length:1000 R:-0.7999999970197678\n"
          ],
          "name": "stderr"
        },
        {
          "output_type": "stream",
          "text": [
            "{'episodes': 10, 'mean': -0.6099999964237213, 'median': -0.4999999888241291, 'stdev': 0.8949860336769715, 'max': 0.10000000149011612, 'min': -2.899999998509884}\n"
          ],
          "name": "stdout"
        }
      ]
    },
    {
      "cell_type": "code",
      "metadata": {
        "id": "37xO5ktzRU7C"
      },
      "source": [
        "import csv\r\n",
        "columns = ['episodes', 'mean', 'median', 'stdev', 'max', 'min']\r\n",
        "from os import path\r\n",
        "\r\n",
        "filename = 'manualscore.txt'\r\n",
        "if path.exists(filename):\r\n",
        "    with open(filename, 'a') as f:\r\n",
        "        writer = csv.DictWriter(f, fieldnames=columns)\r\n",
        "        writer.writerow(stats)\r\n",
        "else:    \r\n",
        "    with open(filename, 'w') as f:\r\n",
        "        writer = csv.DictWriter(f, fieldnames=columns)\r\n",
        "        writer.writeheader()\r\n",
        "        writer.writerow(stats)"
      ],
      "execution_count": 43,
      "outputs": []
    },
    {
      "cell_type": "code",
      "metadata": {
        "colab": {
          "base_uri": "https://localhost:8080/",
          "height": 173
        },
        "id": "xb-jiMs6Z0tJ",
        "outputId": "538f4f1b-6475-4db6-9274-e41208f53739"
      },
      "source": [
        "import pandas as pd\r\n",
        "scores = pd.read_csv(filename, sep=',')\r\n",
        "scores.tail(5)"
      ],
      "execution_count": 39,
      "outputs": [
        {
          "output_type": "execute_result",
          "data": {
            "text/html": [
              "<div>\n",
              "<style scoped>\n",
              "    .dataframe tbody tr th:only-of-type {\n",
              "        vertical-align: middle;\n",
              "    }\n",
              "\n",
              "    .dataframe tbody tr th {\n",
              "        vertical-align: top;\n",
              "    }\n",
              "\n",
              "    .dataframe thead th {\n",
              "        text-align: right;\n",
              "    }\n",
              "</style>\n",
              "<table border=\"1\" class=\"dataframe\">\n",
              "  <thead>\n",
              "    <tr style=\"text-align: right;\">\n",
              "      <th></th>\n",
              "      <th>episodes</th>\n",
              "      <th>mean</th>\n",
              "      <th>median</th>\n",
              "      <th>stdev</th>\n",
              "      <th>max</th>\n",
              "      <th>min</th>\n",
              "    </tr>\n",
              "  </thead>\n",
              "  <tbody>\n",
              "    <tr>\n",
              "      <th>0</th>\n",
              "      <td>1</td>\n",
              "      <td>0.5</td>\n",
              "      <td>0.5</td>\n",
              "      <td>0.0</td>\n",
              "      <td>0.5</td>\n",
              "      <td>0.5</td>\n",
              "    </tr>\n",
              "    <tr>\n",
              "      <th>1</th>\n",
              "      <td>1</td>\n",
              "      <td>0.5</td>\n",
              "      <td>0.5</td>\n",
              "      <td>0.0</td>\n",
              "      <td>0.5</td>\n",
              "      <td>0.5</td>\n",
              "    </tr>\n",
              "    <tr>\n",
              "      <th>2</th>\n",
              "      <td>1</td>\n",
              "      <td>0.5</td>\n",
              "      <td>0.5</td>\n",
              "      <td>0.0</td>\n",
              "      <td>0.5</td>\n",
              "      <td>0.5</td>\n",
              "    </tr>\n",
              "    <tr>\n",
              "      <th>3</th>\n",
              "      <td>1</td>\n",
              "      <td>0.5</td>\n",
              "      <td>0.5</td>\n",
              "      <td>0.0</td>\n",
              "      <td>0.5</td>\n",
              "      <td>0.5</td>\n",
              "    </tr>\n",
              "  </tbody>\n",
              "</table>\n",
              "</div>"
            ],
            "text/plain": [
              "   episodes  mean  median  stdev  max  min\n",
              "0         1   0.5     0.5    0.0  0.5  0.5\n",
              "1         1   0.5     0.5    0.0  0.5  0.5\n",
              "2         1   0.5     0.5    0.0  0.5  0.5\n",
              "3         1   0.5     0.5    0.0  0.5  0.5"
            ]
          },
          "metadata": {
            "tags": []
          },
          "execution_count": 39
        }
      ]
    },
    {
      "cell_type": "code",
      "metadata": {
        "colab": {
          "base_uri": "https://localhost:8080/",
          "height": 335
        },
        "id": "5M31pcABattg",
        "outputId": "08332403-b669-4053-a061-05e1fbc1de3b"
      },
      "source": [
        "import matplotlib.pyplot as plt\r\n",
        "%matplotlib inline\r\n",
        "\r\n",
        "# visualize reward each episodes\r\n",
        "fig = plt.figure(figsize=(15, 5))\r\n",
        "ax1 = fig.add_subplot(121)\r\n",
        "ax2 = fig.add_subplot(122)\r\n",
        "ax1.set_title(\"median reward\")\r\n",
        "ax2.set_title(\"mean reward\")\r\n",
        "print(scores.count()[0])\r\n",
        "x = np.arange(0, scores.count()[0], 1)\r\n",
        "print(x)\r\n",
        "ax1.plot(x, scores['median'])\r\n",
        "ax2.plot(x, scores['mean'])\r\n",
        "\r\n",
        "plt.show()"
      ],
      "execution_count": 40,
      "outputs": [
        {
          "output_type": "stream",
          "text": [
            "4\n",
            "[0 1 2 3]\n"
          ],
          "name": "stdout"
        },
        {
          "output_type": "display_data",
          "data": {
            "image/png": "[encoded data removed]",
            "text/plain": [
              "<Figure size 1080x360 with 2 Axes>"
            ]
          },
          "metadata": {
            "tags": [],
            "needs_background": "light"
          }
        }
      ]
    },
    {
      "cell_type": "markdown",
      "metadata": {
        "id": "VDhEwtDHZpbM"
      },
      "source": [
        "### Automatically created result from the last training session"
      ]
    },
    {
      "cell_type": "markdown",
      "metadata": {
        "id": "l6fNiFtRZLJV"
      },
      "source": [
        "Scores.txt shows the results of the last training session"
      ]
    },
    {
      "cell_type": "code",
      "metadata": {
        "colab": {
          "base_uri": "https://localhost:8080/",
          "height": 224
        },
        "id": "POb-2j4hEYFj",
        "outputId": "fb3b62e9-5acd-472a-baa8-946f14ceafe4"
      },
      "source": [
        "import pandas as pd\r\n",
        "scores = pd.read_csv(outputdir + \"/scores.txt\", sep='\\t')\r\n",
        "scores.tail(5)"
      ],
      "execution_count": 44,
      "outputs": [
        {
          "output_type": "execute_result",
          "data": {
            "text/html": [
              "<div>\n",
              "<style scoped>\n",
              "    .dataframe tbody tr th:only-of-type {\n",
              "        vertical-align: middle;\n",
              "    }\n",
              "\n",
              "    .dataframe tbody tr th {\n",
              "        vertical-align: top;\n",
              "    }\n",
              "\n",
              "    .dataframe thead th {\n",
              "        text-align: right;\n",
              "    }\n",
              "</style>\n",
              "<table border=\"1\" class=\"dataframe\">\n",
              "  <thead>\n",
              "    <tr style=\"text-align: right;\">\n",
              "      <th></th>\n",
              "      <th>steps</th>\n",
              "      <th>episodes</th>\n",
              "      <th>elapsed</th>\n",
              "      <th>mean</th>\n",
              "      <th>median</th>\n",
              "      <th>stdev</th>\n",
              "      <th>max</th>\n",
              "      <th>min</th>\n",
              "      <th>average_q</th>\n",
              "      <th>average_loss</th>\n",
              "      <th>cumulative_steps</th>\n",
              "      <th>n_updates</th>\n",
              "      <th>rlen</th>\n",
              "    </tr>\n",
              "  </thead>\n",
              "  <tbody>\n",
              "    <tr>\n",
              "      <th>35</th>\n",
              "      <td>108036</td>\n",
              "      <td>36</td>\n",
              "      <td>2760.786944</td>\n",
              "      <td>-3.6</td>\n",
              "      <td>-3.6</td>\n",
              "      <td>0.0</td>\n",
              "      <td>-3.6</td>\n",
              "      <td>-3.6</td>\n",
              "      <td>NaN</td>\n",
              "      <td>119.681240</td>\n",
              "      <td>120136</td>\n",
              "      <td>17534</td>\n",
              "      <td>120136</td>\n",
              "    </tr>\n",
              "    <tr>\n",
              "      <th>36</th>\n",
              "      <td>111037</td>\n",
              "      <td>37</td>\n",
              "      <td>2842.019182</td>\n",
              "      <td>-2.0</td>\n",
              "      <td>-2.0</td>\n",
              "      <td>0.0</td>\n",
              "      <td>-2.0</td>\n",
              "      <td>-2.0</td>\n",
              "      <td>NaN</td>\n",
              "      <td>118.851437</td>\n",
              "      <td>123137</td>\n",
              "      <td>18284</td>\n",
              "      <td>123137</td>\n",
              "    </tr>\n",
              "    <tr>\n",
              "      <th>37</th>\n",
              "      <td>114038</td>\n",
              "      <td>38</td>\n",
              "      <td>2922.802361</td>\n",
              "      <td>-2.8</td>\n",
              "      <td>-2.8</td>\n",
              "      <td>0.0</td>\n",
              "      <td>-2.8</td>\n",
              "      <td>-2.8</td>\n",
              "      <td>NaN</td>\n",
              "      <td>118.857606</td>\n",
              "      <td>126138</td>\n",
              "      <td>19034</td>\n",
              "      <td>126138</td>\n",
              "    </tr>\n",
              "    <tr>\n",
              "      <th>38</th>\n",
              "      <td>117039</td>\n",
              "      <td>39</td>\n",
              "      <td>3004.054122</td>\n",
              "      <td>-2.5</td>\n",
              "      <td>-2.5</td>\n",
              "      <td>0.0</td>\n",
              "      <td>-2.5</td>\n",
              "      <td>-2.5</td>\n",
              "      <td>NaN</td>\n",
              "      <td>118.859137</td>\n",
              "      <td>129139</td>\n",
              "      <td>19784</td>\n",
              "      <td>129139</td>\n",
              "    </tr>\n",
              "    <tr>\n",
              "      <th>39</th>\n",
              "      <td>120040</td>\n",
              "      <td>40</td>\n",
              "      <td>3084.148925</td>\n",
              "      <td>0.6</td>\n",
              "      <td>0.6</td>\n",
              "      <td>0.0</td>\n",
              "      <td>0.6</td>\n",
              "      <td>0.6</td>\n",
              "      <td>NaN</td>\n",
              "      <td>118.776547</td>\n",
              "      <td>132140</td>\n",
              "      <td>20535</td>\n",
              "      <td>132140</td>\n",
              "    </tr>\n",
              "  </tbody>\n",
              "</table>\n",
              "</div>"
            ],
            "text/plain": [
              "     steps  episodes      elapsed  ...  cumulative_steps  n_updates    rlen\n",
              "35  108036        36  2760.786944  ...            120136      17534  120136\n",
              "36  111037        37  2842.019182  ...            123137      18284  123137\n",
              "37  114038        38  2922.802361  ...            126138      19034  126138\n",
              "38  117039        39  3004.054122  ...            129139      19784  129139\n",
              "39  120040        40  3084.148925  ...            132140      20535  132140\n",
              "\n",
              "[5 rows x 13 columns]"
            ]
          },
          "metadata": {
            "tags": []
          },
          "execution_count": 44
        }
      ]
    },
    {
      "cell_type": "code",
      "metadata": {
        "colab": {
          "base_uri": "https://localhost:8080/",
          "height": 313
        },
        "id": "ApbZ7TjLJEBB",
        "outputId": "5360615e-d266-4763-d72a-f19379a0f517"
      },
      "source": [
        "import matplotlib.pyplot as plt\r\n",
        "import seaborn as sns\r\n",
        "sns.set()\r\n",
        "%matplotlib inline\r\n",
        "\r\n",
        "# visualize reward each episodes\r\n",
        "fig = plt.figure(figsize=(15, 5))\r\n",
        "ax1 = fig.add_subplot(121)\r\n",
        "ax2 = fig.add_subplot(122)\r\n",
        "ax1.set_title(\"mean reward\")\r\n",
        "ax2.set_title(\"average loss\")\r\n",
        "sns.lineplot(x=\"episodes\", y=\"mean\", data=scores, ax=ax1)\r\n",
        "sns.lineplot(x=\"episodes\", y=\"average_loss\", data=scores,ax=ax2)\r\n",
        "plt.show()"
      ],
      "execution_count": 48,
      "outputs": [
        {
          "output_type": "display_data",
          "data": {
            "image/png": "[encoded data removed]",
            "text/plain": [
              "<Figure size 1080x360 with 2 Axes>"
            ]
          },
          "metadata": {
            "tags": [],
            "needs_background": "light"
          }
        }
      ]
    },
    {
      "cell_type": "code",
      "metadata": {
        "id": "08E-8MIqJVeO"
      },
      "source": [
        ""
      ],
      "execution_count": null,
      "outputs": []
    }
  ]
}