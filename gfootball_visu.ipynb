{
  "nbformat": 4,
  "nbformat_minor": 0,
  "metadata": {
    "colab": {
      "name": "gfootball_visu.ipynb",
      "provenance": [],
      "collapsed_sections": [],
      "toc_visible": true
    },
    "kernelspec": {
      "name": "python3",
      "display_name": "Python 3"
    }
  },
  "cells": [
    {
      "cell_type": "markdown",
      "metadata": {
        "id": "e9jcXzVR2LsZ"
      },
      "source": [
        "Pretty gfootball visualization based on: https://www.kaggle.com/jaronmichal/human-readable-visualization/notebook"
      ]
    },
    {
      "cell_type": "code",
      "metadata": {
        "id": "wX9Efwoiy4BN"
      },
      "source": [
        "# Kaggle environments.\r\n",
        "!git clone https://github.com/Kaggle/kaggle-environments.git\r\n",
        "!cd kaggle-environments && pip install .\r\n",
        "\r\n",
        "# GFootball environment.\r\n",
        "!apt-get update -y\r\n",
        "!apt-get install -y libsdl2-gfx-dev libsdl2-ttf-dev\r\n",
        "\r\n",
        "# Make sure that the Branch in git clone and in wget call matches !!\r\n",
        "!git clone -b v2.6 https://github.com/google-research/football.git\r\n",
        "!mkdir -p football/third_party/gfootball_engine/lib\r\n",
        "\r\n",
        "!wget https://storage.googleapis.com/gfootball/prebuilt_gameplayfootball_v2.6.so -O football/third_party/gfootball_engine/lib/prebuilt_gameplayfootball.so\r\n",
        "!cd football && GFOOTBALL_USE_PREBUILT_SO=1 pip3 install ."
      ],
      "execution_count": null,
      "outputs": []
    },
    {
      "cell_type": "code",
      "metadata": {
        "id": "mvKffo3_4lIC"
      },
      "source": [
        ""
      ],
      "execution_count": null,
      "outputs": []
    },
    {
      "cell_type": "code",
      "metadata": {
        "colab": {
          "base_uri": "https://localhost:8080/"
        },
        "id": "HHoTX7594lFE",
        "outputId": "76a56f3e-cf56-4888-f571-f99accf1b500"
      },
      "source": [
        "import gfootball.env as football_env\r\n",
        "env = football_env.create_environment(env_name=\"11_vs_11_stochastic\", # academy_empty_goal_close\r\n",
        "                                      rewards='checkpoints,scoring', # space between them is not allowed!\r\n",
        "                                      stacked=False, \r\n",
        "                                      logdir='/tmp/football', \r\n",
        "                                      write_goal_dumps=False, \r\n",
        "                                      write_full_episode_dumps=False, \r\n",
        "                                      render=False)\r\n",
        "\r\n",
        "env.reset()\r\n",
        "steps = 0\r\n",
        "while True:\r\n",
        "  obs, rew, done, info = env.step(env.action_space.sample())\r\n",
        "  steps += 1\r\n",
        "  if steps % 100 == 0:\r\n",
        "    print(\"Step %d Reward: %f\" % (steps, rew))\r\n",
        "  if done or steps>1000:\r\n",
        "    break\r\n",
        "\r\n",
        "print(\"Steps: %d Reward: %.2f\" % (steps, rew))"
      ],
      "execution_count": null,
      "outputs": [
        {
          "output_type": "stream",
          "text": [
            "Step 100 Reward: 0.000000\n",
            "Step 200 Reward: 0.000000\n",
            "Step 300 Reward: 0.000000\n",
            "Step 400 Reward: 0.000000\n",
            "Step 500 Reward: 0.000000\n",
            "Step 600 Reward: 0.000000\n",
            "Step 700 Reward: 0.000000\n",
            "Step 800 Reward: 0.000000\n",
            "Step 900 Reward: 0.000000\n",
            "Step 1000 Reward: 0.000000\n",
            "Steps: 1001 Reward: 0.00\n"
          ],
          "name": "stdout"
        }
      ]
    },
    {
      "cell_type": "code",
      "metadata": {
        "id": "1_I3x4VhKjQN",
        "colab": {
          "base_uri": "https://localhost:8080/"
        },
        "outputId": "3e5ba440-3100-4b35-de43-61fa245c1c2e"
      },
      "source": [
        "env.observation_space.shape"
      ],
      "execution_count": null,
      "outputs": [
        {
          "output_type": "execute_result",
          "data": {
            "text/plain": [
              "(72, 96, 4)"
            ]
          },
          "metadata": {
            "tags": []
          },
          "execution_count": 8
        }
      ]
    },
    {
      "cell_type": "code",
      "metadata": {
        "id": "yn9NoWgiKkGU"
      },
      "source": [
        ""
      ],
      "execution_count": null,
      "outputs": []
    },
    {
      "cell_type": "code",
      "metadata": {
        "id": "3BlzL8KUrtX5"
      },
      "source": [
        "import matplotlib.patches as patches\r\n",
        "from  matplotlib.patches import Arc\r\n",
        "from matplotlib import pyplot as plt\r\n",
        "\r\n",
        "import matplotlib.patches as mpatches\r\n",
        "#import matplotlib\r\n",
        "#matplotlib.use('Agg')\r\n",
        "\r\n",
        "# Change size of figure\r\n",
        "plt.rcParams['figure.figsize'] = [20, 16]\r\n",
        "def drawPitch(width, height, color=\"w\"):\r\n",
        "\r\n",
        "  fig = plt.figure()\r\n",
        "  ax = plt.axes(xlim=(-10, width + 10), ylim=(-15, height + 5))\r\n",
        "  plt.axis('off')\r\n",
        "\r\n",
        "  # Grass around pitch\r\n",
        "  rect = patches.Rectangle((-5,-5), width + 10, height + 10, linewidth=1, edgecolor='gray',facecolor='#3f995b', capstyle='round')\r\n",
        "  ax.add_patch(rect)\r\n",
        "\r\n",
        "  # Pitch boundaries\r\n",
        "  rect = plt.Rectangle((0, 0), width, height, ec=color, fc=\"None\", lw=2)\r\n",
        "  ax.add_patch(rect)\r\n",
        "\r\n",
        "  # Middle line\r\n",
        "  # plt.plot([width/2, width/2], [0, height], color=color, linewidth=2)\r\n",
        "  rect = patches.Rectangle((width/2,0), 0, height, lw=2, ec=color, fc=\"None\")\r\n",
        "  ax.add_patch(rect)\r\n",
        "  \r\n",
        "  # Dots\r\n",
        "  dots_x = [11, width/2, width-11]\r\n",
        "  for x in dots_x:\r\n",
        "    #plt.plot(x, height/2, 'o', color=color, linewidth=2)\r\n",
        "    circle = plt.Circle([x, height/2], 0.3, color=color, fc=color, lw=2, alpha=0.5)\r\n",
        "    ax.add_artist(circle)\r\n",
        "\r\n",
        "  # Penalty box  \r\n",
        "  penalty_box_dim = [16.5, 40.3]\r\n",
        "  penalty_box_pos_y = (height - penalty_box_dim[1]) / 2\r\n",
        "\r\n",
        "  rect = plt.Rectangle((0, penalty_box_pos_y), penalty_box_dim[0], penalty_box_dim[1], ec=color, fc=\"None\", lw=2)\r\n",
        "  ax.add_patch(rect)\r\n",
        "  rect = plt.Rectangle((width, penalty_box_pos_y), -penalty_box_dim[0], penalty_box_dim[1], ec=color, fc=\"None\", lw=2)\r\n",
        "  ax.add_patch(rect)\r\n",
        "\r\n",
        "  #Goal box\r\n",
        "  goal_box_dim = [5.5, penalty_box_dim[1] - 11 * 2]\r\n",
        "  goal_box_pos_y = (penalty_box_pos_y + 11)\r\n",
        "\r\n",
        "  rect = plt.Rectangle((0, goal_box_pos_y), goal_box_dim[0], goal_box_dim[1], ec=color, fc=\"None\", lw=2)\r\n",
        "  ax.add_patch(rect)\r\n",
        "  rect = plt.Rectangle((width, goal_box_pos_y), -goal_box_dim[0], goal_box_dim[1], ec=color, fc=\"None\", lw=2)\r\n",
        "  ax.add_patch(rect)\r\n",
        "\r\n",
        "  #Goals\r\n",
        "  rect = plt.Rectangle((0, penalty_box_pos_y + 16.5), -3, 7.5, ec=color, fc=color, lw=2, alpha=0.3)\r\n",
        "  ax.add_patch(rect)\r\n",
        "  rect = plt.Rectangle((width, penalty_box_pos_y + 16.5), 3, 7.5, ec=color, fc=color, lw=2, alpha=0.3)\r\n",
        "  ax.add_patch(rect)\r\n",
        "    \r\n",
        "  # Middle circle\r\n",
        "  mid_circle = plt.Circle([width/2, height/2], 9.15, color=color, fc=\"None\", lw=2)\r\n",
        "  ax.add_artist(mid_circle)\r\n",
        "\r\n",
        "\r\n",
        "  # Penalty box arcs\r\n",
        "  left  = patches.Arc([11, height/2], 2*9.15, 2*9.15, color=color, fc=\"None\", lw=2, angle=0, theta1=308, theta2=52)\r\n",
        "  ax.add_patch(left)\r\n",
        "  right = patches.Arc([width - 11, height/2], 2*9.15, 2*9.15, color=color, fc=\"None\", lw=2, angle=180, theta1=308, theta2=52)\r\n",
        "  ax.add_patch(right)\r\n",
        "\r\n",
        "  # Arcs on corners\r\n",
        "  corners = [[0, 0], [width, 0], [width, height], [0, height]]\r\n",
        "  angle = 0\r\n",
        "  for x,y in corners:\r\n",
        "    c = patches.Arc([x, y], 2, 2, color=color, fc=\"None\", lw=2, angle=angle,theta1=0, theta2=90)\r\n",
        "    ax.add_patch(c)\r\n",
        "    angle += 90\r\n",
        "  return fig, ax"
      ],
      "execution_count": null,
      "outputs": []
    },
    {
      "cell_type": "code",
      "metadata": {
        "id": "liNw9aourtVT",
        "colab": {
          "base_uri": "https://localhost:8080/",
          "height": 901
        },
        "outputId": "144efd3a-0187-4705-a0f0-e73310c99d24"
      },
      "source": [
        "def drawObservation(observation, WIDTH, HEIGHT, ax):\r\n",
        "    ball_pos = None\r\n",
        "    active_player = None\r\n",
        "    home_players = list()\r\n",
        "    away_players = list()\r\n",
        "\r\n",
        "    for y in range(obs.shape[0]):\r\n",
        "        for x in range(obs.shape[1]):\r\n",
        "            if obs[y][x][0] != 0:\r\n",
        "                home_players.append((x,y))\r\n",
        "            if obs[y][x][1] != 0:\r\n",
        "                away_players.append((x,y))\r\n",
        "            if obs[y][x][2] != 0:\r\n",
        "                ball_pos = (x,y)\r\n",
        "            if obs[y][x][3] != 0:\r\n",
        "                active_player = (x,y)\r\n",
        "    # print(ball_pos)\r\n",
        "\r\n",
        "    scale_x = WIDTH / obs.shape[1]\r\n",
        "    scale_y = HEIGHT / obs.shape[0]\r\n",
        "    # Ball\r\n",
        "    mid_circle = plt.Circle([ball_pos[0] * scale_x, ball_pos[1]*scale_y], 0.5, color=\"r\", fc=\"r\", lw=5)\r\n",
        "    ax.add_patch(mid_circle)\r\n",
        "    # Players\r\n",
        "    for player in home_players:\r\n",
        "        circle = plt.Circle([player[0] * scale_x, player[1]*scale_y], 0.4, color=\"b\", fc=\"b\", lw=2)\r\n",
        "        ax.add_artist(circle)\r\n",
        "    for player in away_players:\r\n",
        "        #circle = plt.Rectangle([player[0] * scale_x, player[1]*scale_y], 0.4, color=\"black\", fc=\"black\", lw=2)\r\n",
        "        circle = plt.Rectangle((player[0] * scale_x, player[1]*scale_y), 0.6 , 0.6, ec=\"black\", fc=\"black\", lw=2)\r\n",
        "        ax.add_artist(circle)\r\n",
        "    # highlight active player\r\n",
        "    circle = plt.Circle([active_player[0] * scale_x, active_player[1]*scale_y], 0.8, color=\"y\", fc=\"y\", lw=2)\r\n",
        "    ax.add_patch(circle)\r\n",
        "\r\n",
        "def drawAll(obs, output_filename='plot.png'):\r\n",
        "    WIDTH = 105\r\n",
        "    HEIGHT = 68\r\n",
        "\r\n",
        "    fig, ax = drawPitch(WIDTH, HEIGHT)\r\n",
        "    # obs = env.reset()\r\n",
        "\r\n",
        "    drawObservation(obs, WIDTH, HEIGHT, ax)\r\n",
        "    plt.savefig(output_filename)\r\n",
        "\r\n",
        "\r\n",
        "plt.ioff()\r\n",
        "obs = env.reset()\r\n",
        "drawAll(obs)\r\n",
        "plt.show()\r\n",
        "plt.close()\r\n"
      ],
      "execution_count": null,
      "outputs": [
        {
          "output_type": "display_data",
          "data": {
            "image/png": "[encoded data removed]",
            "text/plain": [
              "<Figure size 1440x1152 with 1 Axes>"
            ]
          },
          "metadata": {
            "tags": [],
            "needs_background": "light"
          }
        }
      ]
    },
    {
      "cell_type": "markdown",
      "metadata": {
        "id": "zvdlvJniTJrL"
      },
      "source": [
        "### Generating images for every step. Saving to disk is not optimal, we only need the animated series so keeping the images in memory would be better"
      ]
    },
    {
      "cell_type": "code",
      "metadata": {
        "id": "95UobrGgNnwe"
      },
      "source": [
        "env.reset()\r\n",
        "step = 0\r\n",
        "max_steps=100\r\n",
        "while True:\r\n",
        "    obs, rew, done, info = env.step(env.action_space.sample())\r\n",
        "    step += 1\r\n",
        "    drawAll(obs, output_filename= 'pics/' + str(step).zfill(3) + '.png')\r\n",
        "    plt.close()\r\n",
        "\r\n",
        "    if done or step>max_steps:\r\n",
        "        break"
      ],
      "execution_count": null,
      "outputs": []
    },
    {
      "cell_type": "code",
      "metadata": {
        "id": "d071Ec64sTGd"
      },
      "source": [
        "import glob\r\n",
        "from PIL import Image\r\n",
        "\r\n",
        "# filepaths\r\n",
        "fp_in = \"pics/*.png\"\r\n",
        "fp_out = \"pics/gif.gif\"\r\n",
        "\r\n",
        "# https://pillow.readthedocs.io/en/stable/handbook/image-file-formats.html#gif\r\n",
        "img, *imgs = [Image.open(f) for f in sorted(glob.glob(fp_in))]\r\n",
        "img.save(fp=fp_out, format='GIF', append_images=imgs,\r\n",
        "         save_all=True, duration=200, loop=0)\r\n"
      ],
      "execution_count": null,
      "outputs": []
    },
    {
      "cell_type": "code",
      "metadata": {
        "id": "_DXH0O9AsTD3"
      },
      "source": [
        ""
      ],
      "execution_count": null,
      "outputs": []
    },
    {
      "cell_type": "code",
      "metadata": {
        "id": "D8f2nfc3sTA9"
      },
      "source": [
        ""
      ],
      "execution_count": null,
      "outputs": []
    },
    {
      "cell_type": "code",
      "metadata": {
        "id": "GK7voCWlrtSd"
      },
      "source": [
        "!rm -rf pics"
      ],
      "execution_count": null,
      "outputs": []
    },
    {
      "cell_type": "code",
      "metadata": {
        "id": "9Az6wNbKrtPd"
      },
      "source": [
        ""
      ],
      "execution_count": null,
      "outputs": []
    },
    {
      "cell_type": "code",
      "metadata": {
        "id": "QBuuK74YrtGl"
      },
      "source": [
        ""
      ],
      "execution_count": null,
      "outputs": []
    },
    {
      "cell_type": "code",
      "metadata": {
        "id": "aUeJwg624lCQ"
      },
      "source": [
        "import numpy as np\r\n",
        "import matplotlib.pyplot as plt\r\n",
        "import numpy as np\r\n",
        "\r\n",
        "\r\n",
        "\r\n",
        "env.reset()\r\n",
        "for i in range(10):\r\n",
        "  obs, rew, done, info = env.step(env.action_space.sample())\r\n",
        "  print(obs.shape)\r\n",
        "\r\n",
        "\r\n",
        "plt.imshow(obs[:,:,0], cmap='hot', interpolation='nearest')\r\n",
        "plt.show()\r\n",
        "print(np.matrix(obs[:,:,0]).argmax())\r\n",
        "# print(np.matrix(obs[j]))\r\n",
        "\r\n",
        "\r\n",
        "\r\n",
        "\r\n",
        "def init():\r\n",
        "    team_left.set_data([], [])\r\n",
        "    team_right.set_data([], [])\r\n",
        "    ball_owner.set_data([], [])\r\n",
        "    team_active.set_data([], [])\r\n",
        "    ball.set_data([], [])\r\n",
        "    return drawings \r\n",
        "\r\n",
        "def animate(i):\r\n",
        "  global prev_score_a, prev_score_b\r\n",
        "  obs = extract_data(output[i])\r\n",
        "\r\n",
        "  # Draw info about ball possesion\r\n",
        "  draw_ball_owner(obs, ball_owner, team_active)\r\n",
        "\r\n",
        "  # Draw players\r\n",
        "  draw_team(obs, team_left, \"left_team\")\r\n",
        "  draw_team(obs, team_right, \"right_team\")\r\n",
        "\r\n",
        "  draw_players_directions(obs, directions, \"left_team\")\r\n",
        "  draw_players_directions(obs, directions, \"right_team\")\r\n",
        "    \r\n",
        "  draw_ball(obs, ball)\r\n",
        "\r\n",
        "  # Draw textual informations\r\n",
        "  text_frame.set_text(f\"Frame: {i}/{obs['steps_left'] + i - 1}\")\r\n",
        "  game_mode.set_text(f\"Game mode: {obs['game_mode']}\")\r\n",
        "  \r\n",
        "  score_a, score_b = obs[\"score\"]\r\n",
        "  match_info.set_text(f\"Left team {score_a} : {score_b} Right Team\")\r\n",
        "\r\n",
        "  return drawings  \r\n",
        "\r\n",
        "\r\n",
        "# May take a while\r\n",
        "anim = animation.FuncAnimation(fig, animate, init_func=init,\r\n",
        "                               frames=10, interval=100, blit=True)\r\n",
        "\r\n",
        "HTML(anim.to_html5_video())"
      ],
      "execution_count": null,
      "outputs": []
    },
    {
      "cell_type": "code",
      "metadata": {
        "id": "Wzjux8Gp4k_b"
      },
      "source": [
        ""
      ],
      "execution_count": null,
      "outputs": []
    },
    {
      "cell_type": "code",
      "metadata": {
        "id": "_lxADpLo4k8f"
      },
      "source": [
        ""
      ],
      "execution_count": null,
      "outputs": []
    },
    {
      "cell_type": "code",
      "metadata": {
        "id": "RCpWTFY54kzw"
      },
      "source": [
        ""
      ],
      "execution_count": null,
      "outputs": []
    },
    {
      "cell_type": "code",
      "metadata": {
        "id": "c2Onh9DzzD-b"
      },
      "source": [
        "import matplotlib.patches as patches\r\n",
        "from  matplotlib.patches import Arc\r\n",
        "from matplotlib import pyplot as plt\r\n",
        "from matplotlib import animation\r\n",
        "import matplotlib.patches as mpatches\r\n",
        "\r\n",
        "# Change size of figure\r\n",
        "plt.rcParams['figure.figsize'] = [20, 16]\r\n",
        "def drawPitch(width, height, color=\"w\"):\r\n",
        "\r\n",
        "  fig = plt.figure()\r\n",
        "  ax = plt.axes(xlim=(-10, width + 10), ylim=(-15, height + 5))\r\n",
        "  plt.axis('off')\r\n",
        "\r\n",
        "  # Grass around pitch\r\n",
        "  rect = patches.Rectangle((-5,-5), width + 10, height + 10, linewidth=1, edgecolor='gray',facecolor='#3f995b', capstyle='round')\r\n",
        "  ax.add_patch(rect)\r\n",
        "\r\n",
        "  # Pitch boundaries\r\n",
        "  rect = plt.Rectangle((0, 0), width, height, ec=color, fc=\"None\", lw=2)\r\n",
        "  ax.add_patch(rect)\r\n",
        "\r\n",
        "  # Middle line\r\n",
        "  plt.plot([width/2, width/2], [0, height], color=color, linewidth=2)\r\n",
        "  \r\n",
        "  # Dots\r\n",
        "  dots_x = [11, width/2, width-11]\r\n",
        "  for x in dots_x:\r\n",
        "    plt.plot(x, height/2, 'o', color=color, linewidth=2)\r\n",
        "\r\n",
        "  # Penalty box  \r\n",
        "  penalty_box_dim = [16.5, 40.3]\r\n",
        "  penalty_box_pos_y = (height - penalty_box_dim[1]) / 2\r\n",
        "\r\n",
        "  rect = plt.Rectangle((0, penalty_box_pos_y), penalty_box_dim[0], penalty_box_dim[1], ec=color, fc=\"None\", lw=2)\r\n",
        "  ax.add_patch(rect)\r\n",
        "  rect = plt.Rectangle((width, penalty_box_pos_y), -penalty_box_dim[0], penalty_box_dim[1], ec=color, fc=\"None\", lw=2)\r\n",
        "  ax.add_patch(rect)\r\n",
        "\r\n",
        "  #Goal box\r\n",
        "  goal_box_dim = [5.5, penalty_box_dim[1] - 11 * 2]\r\n",
        "  goal_box_pos_y = (penalty_box_pos_y + 11)\r\n",
        "\r\n",
        "  rect = plt.Rectangle((0, goal_box_pos_y), goal_box_dim[0], goal_box_dim[1], ec=color, fc=\"None\", lw=2)\r\n",
        "  ax.add_patch(rect)\r\n",
        "  rect = plt.Rectangle((width, goal_box_pos_y), -goal_box_dim[0], goal_box_dim[1], ec=color, fc=\"None\", lw=2)\r\n",
        "  ax.add_patch(rect)\r\n",
        "\r\n",
        "  #Goals\r\n",
        "  rect = plt.Rectangle((0, penalty_box_pos_y + 16.5), -3, 7.5, ec=color, fc=color, lw=2, alpha=0.3)\r\n",
        "  ax.add_patch(rect)\r\n",
        "  rect = plt.Rectangle((width, penalty_box_pos_y + 16.5), 3, 7.5, ec=color, fc=color, lw=2, alpha=0.3)\r\n",
        "  ax.add_patch(rect)\r\n",
        "    \r\n",
        "  # Middle circle\r\n",
        "  mid_circle = plt.Circle([width/2, height/2], 9.15, color=color, fc=\"None\", lw=2)\r\n",
        "  ax.add_artist(mid_circle)\r\n",
        "\r\n",
        "\r\n",
        "  # Penalty box arcs\r\n",
        "  left  = patches.Arc([11, height/2], 2*9.15, 2*9.15, color=color, fc=\"None\", lw=2, angle=0, theta1=308, theta2=52)\r\n",
        "  ax.add_patch(left)\r\n",
        "  right = patches.Arc([width - 11, height/2], 2*9.15, 2*9.15, color=color, fc=\"None\", lw=2, angle=180, theta1=308, theta2=52)\r\n",
        "  ax.add_patch(right)\r\n",
        "\r\n",
        "  # Arcs on corners\r\n",
        "  corners = [[0, 0], [width, 0], [width, height], [0, height]]\r\n",
        "  angle = 0\r\n",
        "  for x,y in corners:\r\n",
        "    c = patches.Arc([x, y], 2, 2, color=color, fc=\"None\", lw=2, angle=angle,theta1=0, theta2=90)\r\n",
        "    ax.add_patch(c)\r\n",
        "    angle += 90\r\n",
        "  return fig, ax"
      ],
      "execution_count": null,
      "outputs": []
    },
    {
      "cell_type": "code",
      "metadata": {
        "id": "4w90AGmUzD8Q"
      },
      "source": [
        "WIDTH = 105\r\n",
        "HEIGHT = 68\r\n",
        "\r\n",
        "drawPitch(WIDTH, HEIGHT)"
      ],
      "execution_count": null,
      "outputs": []
    },
    {
      "cell_type": "code",
      "metadata": {
        "id": "sQi6MCVizD5C"
      },
      "source": [
        "from enum import Enum\r\n",
        "\r\n",
        "X_RESIZE = WIDTH\r\n",
        "Y_RESIZE = HEIGHT / 0.42\r\n",
        "\r\n",
        "class GameMode(Enum):\r\n",
        "    Normal = 0\r\n",
        "    KickOff = 1\r\n",
        "    GoalKick = 2\r\n",
        "    FreeKick = 3\r\n",
        "    Corner = 4\r\n",
        "    ThrowIn = 5\r\n",
        "    Penalty = 6\r\n",
        "\r\n",
        "def scale_x(x):\r\n",
        "  return (x + 1) * (X_RESIZE/2)\r\n",
        "\r\n",
        "def scale_y(y):\r\n",
        "  return (y + 0.42) * (Y_RESIZE/2)\r\n",
        "\r\n",
        "\r\n",
        "def extract_data(frame):\r\n",
        "  res = {}\r\n",
        "  obs = frame[0]['observation']['players_raw'][0]\r\n",
        "  res[\"left_team\"] = [(scale_x(x), scale_y(y)) for x, y in obs[\"left_team\"]]\r\n",
        "  res[\"right_team\"] = [(scale_x(x), scale_y(y)) for x, y in obs[\"right_team\"]]\r\n",
        "\r\n",
        "  ball_x, ball_y, ball_z = obs[\"ball\"]\r\n",
        "  res[\"ball\"] = [scale_x(ball_x),  scale_y(ball_y), ball_z]\r\n",
        "  res[\"score\"] = obs[\"score\"]\r\n",
        "  res[\"steps_left\"] = obs[\"steps_left\"]\r\n",
        "  res[\"ball_owned_team\"] = obs[\"ball_owned_team\"]\r\n",
        "  res[\"ball_owned_player\"] = obs[\"ball_owned_player\"]\r\n",
        "  res[\"right_team_roles\"] = obs[\"right_team_roles\"]\r\n",
        "  res[\"left_team_roles\"] = obs[\"left_team_roles\"]\r\n",
        "  res[\"left_team_direction\"] = obs[\"left_team_direction\"]\r\n",
        "  res[\"right_team_direction\"] = obs[\"right_team_direction\"]\r\n",
        "  res[\"game_mode\"] = GameMode(obs[\"game_mode\"]).name\r\n",
        "  return res"
      ],
      "execution_count": null,
      "outputs": []
    },
    {
      "cell_type": "code",
      "metadata": {
        "id": "1iJqBWho4Rf_"
      },
      "source": [
        ""
      ],
      "execution_count": null,
      "outputs": []
    },
    {
      "cell_type": "code",
      "metadata": {
        "id": "Sv3CoCli4RXF"
      },
      "source": [
        ""
      ],
      "execution_count": null,
      "outputs": []
    },
    {
      "cell_type": "code",
      "metadata": {
        "id": "nJVhVTVyzD2D"
      },
      "source": [
        "import math\r\n",
        "\r\n",
        "\r\n",
        "def draw_team(obs, team, side):\r\n",
        "  X = []\r\n",
        "  Y = []\r\n",
        "  for x, y in obs[side]:\r\n",
        "    X.append(x)\r\n",
        "    Y.append(y)\r\n",
        "  team.set_data(X, Y)\r\n",
        "\r\n",
        "def draw_ball(obs, ball):\r\n",
        "  ball.set_markersize(10 + 5 * obs[\"ball\"][2]) # Scale size of ball based on height\r\n",
        "  ball.set_data(obs[\"ball\"][:2])\r\n",
        "\r\n",
        "def draw_ball_owner(obs, ball_owner, team_active):\r\n",
        "  if obs[\"ball_owned_team\"] == 0:\r\n",
        "    x, y = obs[\"left_team\"][obs[\"ball_owned_player\"]]\r\n",
        "    ball_owner.set_data(x, y)\r\n",
        "    team_active.set_data(WIDTH / 4 + 7, -7)\r\n",
        "    team_active.set_markerfacecolor(\"red\")\r\n",
        "  elif obs[\"ball_owned_team\"] == 1:\r\n",
        "    x, y = obs[\"right_team\"][obs[\"ball_owned_player\"]]\r\n",
        "    ball_owner.set_data(x, y)\r\n",
        "    team_active.set_data(WIDTH / 4 + 50, -7)\r\n",
        "    team_active.set_markerfacecolor(\"blue\")\r\n",
        "  else:\r\n",
        "    ball_owner.set_data([], [])\r\n",
        "    team_active.set_data([], [])\r\n",
        "    \r\n",
        "def draw_players_directions(obs, directions, side):\r\n",
        "  index = 0\r\n",
        "  if \"right\" in side:\r\n",
        "    index = 11\r\n",
        "  for i, player_dir in enumerate(obs[f\"{side}_direction\"]):\r\n",
        "    x_dir, y_dir = player_dir\r\n",
        "    dist = math.sqrt(x_dir ** 2 + y_dir ** 2) + 0.00001 # to prevent division by 0\r\n",
        "    x = obs[side][i][0]\r\n",
        "    y = obs[side][i][1] \r\n",
        "    directions[i + index].set_data([x, x + x_dir / dist ], [y, y + y_dir / dist])"
      ],
      "execution_count": null,
      "outputs": []
    },
    {
      "cell_type": "code",
      "metadata": {
        "id": "-K1Fejb4zDzb"
      },
      "source": [
        "import numpy as np\r\n",
        "from IPython.display import HTML\r\n",
        "\r\n",
        "fig, ax = drawPitch(WIDTH, HEIGHT)\r\n",
        "ax.invert_yaxis()\r\n",
        "\r\n",
        "ball_owner, = ax.plot([], [], 'o', markersize=30,  markerfacecolor=\"yellow\", alpha=0.5)\r\n",
        "team_active, = ax.plot([], [], 'o', markersize=30,  markerfacecolor=\"blue\", markeredgecolor=\"None\")\r\n",
        "\r\n",
        "team_left, = ax.plot([], [], 'o', markersize=20, markerfacecolor=\"r\", markeredgewidth=2, markeredgecolor=\"white\")\r\n",
        "team_right, = ax.plot([], [], 'o', markersize=20,  markerfacecolor=\"b\", markeredgewidth=2, markeredgecolor=\"white\")\r\n",
        "\r\n",
        "ball, = ax.plot([], [], 'o', markersize=10,  markerfacecolor=\"black\", markeredgewidth=2, markeredgecolor=\"white\")\r\n",
        "text_frame = ax.text(-5, -5, '', fontsize=25)\r\n",
        "match_info = ax.text(105 / 4 + 10, -5, '', fontsize=25)\r\n",
        "game_mode = ax.text(105 - 25, -5, '', fontsize=25)\r\n",
        "goal_notification = ax.text(105 / 4 + 10, 0, '', fontsize=25)\r\n",
        "\r\n",
        "# Drawing of directions definitely can be done in a better way\r\n",
        "directions = []\r\n",
        "for i in range(22):\r\n",
        "  direction, = ax.plot([], [], color='yellow', lw=3)\r\n",
        "  directions.append(direction)\r\n",
        "\r\n",
        "  \r\n",
        "drawings = [team_active, ball_owner, team_left, team_right, ball, text_frame, match_info, game_mode, goal_notification]\r\n",
        "\r\n",
        "def init():\r\n",
        "    team_left.set_data([], [])\r\n",
        "    team_right.set_data([], [])\r\n",
        "    ball_owner.set_data([], [])\r\n",
        "    team_active.set_data([], [])\r\n",
        "    ball.set_data([], [])\r\n",
        "    return drawings \r\n",
        "\r\n",
        "\"running_in_notebook\": True, \"episodeSteps\": 1000}, debug=True)\r\n",
        "output = env.run([agent, agent])"
      ],
      "execution_count": null,
      "outputs": []
    },
    {
      "cell_type": "markdown",
      "metadata": {
        "id": "Yu5egf5O2JA8"
      },
      "source": [
        ""
      ]
    },
    {
      "cell_type": "code",
      "metadata": {
        "id": "wuxvtHC_zDwB"
      },
      "source": [
        ""
      ],
      "execution_count": null,
      "outputs": []
    },
    {
      "cell_type": "code",
      "metadata": {
        "id": "Tu7D9ODWzDmw"
      },
      "source": [
        ""
      ],
      "execution_count": null,
      "outputs": []
    }
  ]
}