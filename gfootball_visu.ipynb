{
  "nbformat": 4,
  "nbformat_minor": 0,
  "metadata": {
    "colab": {
      "name": "gfootball_visu.ipynb",
      "provenance": [],
      "collapsed_sections": []
    },
    "kernelspec": {
      "name": "python3",
      "display_name": "Python 3"
    }
  },
  "cells": [
    {
      "cell_type": "markdown",
      "metadata": {
        "id": "e9jcXzVR2LsZ"
      },
      "source": [
        "Pretty gfootball visualization based on: https://www.kaggle.com/jaronmichal/human-readable-visualization/notebook"
      ]
    },
    {
      "cell_type": "code",
      "metadata": {
        "colab": {
          "base_uri": "https://localhost:8080/"
        },
        "id": "wX9Efwoiy4BN",
        "outputId": "70f982e2-8860-4f54-aebe-8d73ec2b96f1"
      },
      "source": [
        "# Kaggle environments.\r\n",
        "!git clone https://github.com/Kaggle/kaggle-environments.git\r\n",
        "!cd kaggle-environments && pip install .\r\n",
        "\r\n",
        "# GFootball environment.\r\n",
        "!apt-get update -y\r\n",
        "!apt-get install -y libsdl2-gfx-dev libsdl2-ttf-dev\r\n",
        "\r\n",
        "# Make sure that the Branch in git clone and in wget call matches !!\r\n",
        "!git clone -b v2.6 https://github.com/google-research/football.git\r\n",
        "!mkdir -p football/third_party/gfootball_engine/lib\r\n",
        "\r\n",
        "!wget https://storage.googleapis.com/gfootball/prebuilt_gameplayfootball_v2.6.so -O football/third_party/gfootball_engine/lib/prebuilt_gameplayfootball.so\r\n",
        "!cd football && GFOOTBALL_USE_PREBUILT_SO=1 pip3 install ."
      ],
      "execution_count": 1,
      "outputs": [
        {
          "output_type": "stream",
          "text": [
            "Cloning into 'kaggle-environments'...\n",
            "remote: Enumerating objects: 33, done.\u001b[K\n",
            "remote: Counting objects: 100% (33/33), done.\u001b[K\n",
            "remote: Compressing objects: 100% (26/26), done.\u001b[K\n",
            "remote: Total 3361 (delta 19), reused 16 (delta 7), pack-reused 3328\u001b[K\n",
            "Receiving objects: 100% (3361/3361), 9.24 MiB | 8.48 MiB/s, done.\n",
            "Resolving deltas: 100% (1987/1987), done.\n",
            "Processing /content/kaggle-environments\n",
            "Collecting jsonschema>=3.0.1\n",
            "\u001b[?25l  Downloading https://files.pythonhosted.org/packages/c5/8f/51e89ce52a085483359217bc72cdbf6e75ee595d5b1d4b5ade40c7e018b8/jsonschema-3.2.0-py2.py3-none-any.whl (56kB)\n",
            "\u001b[K     |████████████████████████████████| 61kB 5.8MB/s \n",
            "\u001b[?25hRequirement already satisfied: pyrsistent>=0.14.0 in /usr/local/lib/python3.6/dist-packages (from jsonschema>=3.0.1->kaggle-environments==1.7.3) (0.17.3)\n",
            "Requirement already satisfied: attrs>=17.4.0 in /usr/local/lib/python3.6/dist-packages (from jsonschema>=3.0.1->kaggle-environments==1.7.3) (20.3.0)\n",
            "Requirement already satisfied: six>=1.11.0 in /usr/local/lib/python3.6/dist-packages (from jsonschema>=3.0.1->kaggle-environments==1.7.3) (1.15.0)\n",
            "Requirement already satisfied: setuptools in /usr/local/lib/python3.6/dist-packages (from jsonschema>=3.0.1->kaggle-environments==1.7.3) (50.3.2)\n",
            "Requirement already satisfied: importlib-metadata; python_version < \"3.8\" in /usr/local/lib/python3.6/dist-packages (from jsonschema>=3.0.1->kaggle-environments==1.7.3) (3.1.1)\n",
            "Requirement already satisfied: zipp>=0.5 in /usr/local/lib/python3.6/dist-packages (from importlib-metadata; python_version < \"3.8\"->jsonschema>=3.0.1->kaggle-environments==1.7.3) (3.4.0)\n",
            "Building wheels for collected packages: kaggle-environments\n",
            "  Building wheel for kaggle-environments (setup.py) ... \u001b[?25l\u001b[?25hdone\n",
            "  Created wheel for kaggle-environments: filename=kaggle_environments-1.7.3-cp36-none-any.whl size=308470 sha256=386f75b4a44a306564376614192b2c52a249889501326fc15279eacc34befe07\n",
            "  Stored in directory: /root/.cache/pip/wheels/b5/54/a7/594e71fd4727d3e25cdda724b53683ca70d35f18ad5b344996\n",
            "Successfully built kaggle-environments\n",
            "\u001b[31mERROR: nbclient 0.5.1 has requirement jupyter-client>=6.1.5, but you'll have jupyter-client 5.3.5 which is incompatible.\u001b[0m\n",
            "Installing collected packages: jsonschema, kaggle-environments\n",
            "  Found existing installation: jsonschema 2.6.0\n",
            "    Uninstalling jsonschema-2.6.0:\n",
            "      Successfully uninstalled jsonschema-2.6.0\n",
            "Successfully installed jsonschema-3.2.0 kaggle-environments-1.7.3\n",
            "Get:1 http://ppa.launchpad.net/c2d4u.team/c2d4u4.0+/ubuntu bionic InRelease [15.9 kB]\n",
            "Hit:2 http://archive.ubuntu.com/ubuntu bionic InRelease\n",
            "Get:3 http://archive.ubuntu.com/ubuntu bionic-updates InRelease [88.7 kB]\n",
            "Get:4 http://ppa.launchpad.net/graphics-drivers/ppa/ubuntu bionic InRelease [21.3 kB]\n",
            "Get:5 https://cloud.r-project.org/bin/linux/ubuntu bionic-cran40/ InRelease [3,626 B]\n",
            "Get:6 http://archive.ubuntu.com/ubuntu bionic-backports InRelease [74.6 kB]\n",
            "Get:7 http://security.ubuntu.com/ubuntu bionic-security InRelease [88.7 kB]\n",
            "Ign:8 https://developer.download.nvidia.com/compute/cuda/repos/ubuntu1804/x86_64  InRelease\n",
            "Ign:9 https://developer.download.nvidia.com/compute/machine-learning/repos/ubuntu1804/x86_64  InRelease\n",
            "Hit:10 https://developer.download.nvidia.com/compute/cuda/repos/ubuntu1804/x86_64  Release\n",
            "Hit:11 https://developer.download.nvidia.com/compute/machine-learning/repos/ubuntu1804/x86_64  Release\n",
            "Get:12 http://ppa.launchpad.net/c2d4u.team/c2d4u4.0+/ubuntu bionic/main Sources [1,697 kB]\n",
            "Get:13 http://ppa.launchpad.net/c2d4u.team/c2d4u4.0+/ubuntu bionic/main amd64 Packages [869 kB]\n",
            "Get:14 https://cloud.r-project.org/bin/linux/ubuntu bionic-cran40/ Packages [40.7 kB]\n",
            "Get:15 http://archive.ubuntu.com/ubuntu bionic-updates/restricted amd64 Packages [253 kB]\n",
            "Get:16 http://archive.ubuntu.com/ubuntu bionic-updates/multiverse amd64 Packages [54.3 kB]\n",
            "Get:17 http://archive.ubuntu.com/ubuntu bionic-updates/universe amd64 Packages [2,132 kB]\n",
            "Get:18 http://archive.ubuntu.com/ubuntu bionic-updates/main amd64 Packages [2,211 kB]\n",
            "Get:19 http://ppa.launchpad.net/graphics-drivers/ppa/ubuntu bionic/main amd64 Packages [46.5 kB]\n",
            "Get:22 http://security.ubuntu.com/ubuntu bionic-security/restricted amd64 Packages [223 kB]\n",
            "Get:23 http://security.ubuntu.com/ubuntu bionic-security/multiverse amd64 Packages [15.8 kB]\n",
            "Get:24 http://security.ubuntu.com/ubuntu bionic-security/universe amd64 Packages [1,368 kB]\n",
            "Get:25 http://security.ubuntu.com/ubuntu bionic-security/main amd64 Packages [1,784 kB]\n",
            "Fetched 11.0 MB in 3s (4,066 kB/s)\n",
            "Reading package lists... Done\n",
            "Reading package lists... Done\n",
            "Building dependency tree       \n",
            "Reading state information... Done\n",
            "The following additional packages will be installed:\n",
            "  gir1.2-ibus-1.0 libcapnp-0.6.1 libdbus-1-dev libibus-1.0-5 libibus-1.0-dev\n",
            "  libmirclient-dev libmirclient9 libmircommon-dev libmircommon7\n",
            "  libmircookie-dev libmircookie2 libmircore-dev libmircore1 libmirprotobuf3\n",
            "  libprotobuf-dev libprotobuf-lite10 libpulse-dev libpulse-mainloop-glib0\n",
            "  libsdl2-dev libsdl2-gfx-1.0-0 libsdl2-ttf-2.0-0 libsndio-dev libudev-dev\n",
            "  libxcursor-dev libxinerama-dev libxkbcommon-dev libxrandr-dev libxv-dev\n",
            "  x11proto-randr-dev x11proto-xinerama-dev\n",
            "Suggested packages:\n",
            "  libsdl2-gfx-doc\n",
            "The following NEW packages will be installed:\n",
            "  gir1.2-ibus-1.0 libcapnp-0.6.1 libdbus-1-dev libibus-1.0-5 libibus-1.0-dev\n",
            "  libmirclient-dev libmirclient9 libmircommon-dev libmircommon7\n",
            "  libmircookie-dev libmircookie2 libmircore-dev libmircore1 libmirprotobuf3\n",
            "  libprotobuf-dev libprotobuf-lite10 libpulse-dev libpulse-mainloop-glib0\n",
            "  libsdl2-dev libsdl2-gfx-1.0-0 libsdl2-gfx-dev libsdl2-ttf-2.0-0\n",
            "  libsdl2-ttf-dev libsndio-dev libudev-dev libxcursor-dev libxinerama-dev\n",
            "  libxkbcommon-dev libxrandr-dev libxv-dev x11proto-randr-dev\n",
            "  x11proto-xinerama-dev\n",
            "0 upgraded, 32 newly installed, 0 to remove and 35 not upgraded.\n",
            "Need to get 3,919 kB of archives.\n",
            "After this operation, 24.9 MB of additional disk space will be used.\n",
            "Get:1 http://archive.ubuntu.com/ubuntu bionic-updates/main amd64 libibus-1.0-5 amd64 1.5.17-3ubuntu5.3 [133 kB]\n",
            "Get:2 http://archive.ubuntu.com/ubuntu bionic-updates/main amd64 gir1.2-ibus-1.0 amd64 1.5.17-3ubuntu5.3 [66.5 kB]\n",
            "Get:3 http://archive.ubuntu.com/ubuntu bionic/main amd64 libcapnp-0.6.1 amd64 0.6.1-1ubuntu1 [658 kB]\n",
            "Get:4 http://archive.ubuntu.com/ubuntu bionic-updates/main amd64 libdbus-1-dev amd64 1.12.2-1ubuntu1.2 [165 kB]\n",
            "Get:5 http://archive.ubuntu.com/ubuntu bionic-updates/main amd64 libibus-1.0-dev amd64 1.5.17-3ubuntu5.3 [145 kB]\n",
            "Get:6 http://archive.ubuntu.com/ubuntu bionic/main amd64 libmircore1 amd64 0.31.1-0ubuntu1 [26.5 kB]\n",
            "Get:7 http://archive.ubuntu.com/ubuntu bionic/main amd64 libmircommon7 amd64 0.31.1-0ubuntu1 [73.9 kB]\n",
            "Get:8 http://archive.ubuntu.com/ubuntu bionic/main amd64 libprotobuf-lite10 amd64 3.0.0-9.1ubuntu1 [97.7 kB]\n",
            "Get:9 http://archive.ubuntu.com/ubuntu bionic/main amd64 libmirprotobuf3 amd64 0.31.1-0ubuntu1 [127 kB]\n",
            "Get:10 http://archive.ubuntu.com/ubuntu bionic/main amd64 libmirclient9 amd64 0.31.1-0ubuntu1 [199 kB]\n",
            "Get:11 http://archive.ubuntu.com/ubuntu bionic/main amd64 libmircore-dev amd64 0.31.1-0ubuntu1 [21.7 kB]\n",
            "Get:12 http://archive.ubuntu.com/ubuntu bionic/main amd64 libprotobuf-dev amd64 3.0.0-9.1ubuntu1 [959 kB]\n",
            "Get:13 http://archive.ubuntu.com/ubuntu bionic-updates/main amd64 libxkbcommon-dev amd64 0.8.2-1~ubuntu18.04.1 [150 kB]\n",
            "Get:14 http://archive.ubuntu.com/ubuntu bionic/main amd64 libmircommon-dev amd64 0.31.1-0ubuntu1 [13.9 kB]\n",
            "Get:15 http://archive.ubuntu.com/ubuntu bionic/main amd64 libmircookie2 amd64 0.31.1-0ubuntu1 [19.7 kB]\n",
            "Get:16 http://archive.ubuntu.com/ubuntu bionic/main amd64 libmircookie-dev amd64 0.31.1-0ubuntu1 [4,392 B]\n",
            "Get:17 http://archive.ubuntu.com/ubuntu bionic/main amd64 libmirclient-dev amd64 0.31.1-0ubuntu1 [47.8 kB]\n",
            "Get:18 http://archive.ubuntu.com/ubuntu bionic-updates/main amd64 libpulse-mainloop-glib0 amd64 1:11.1-1ubuntu7.11 [22.1 kB]\n",
            "Get:19 http://archive.ubuntu.com/ubuntu bionic-updates/main amd64 libpulse-dev amd64 1:11.1-1ubuntu7.11 [81.5 kB]\n",
            "Get:20 http://archive.ubuntu.com/ubuntu bionic/universe amd64 libsndio-dev amd64 1.1.0-3 [13.3 kB]\n",
            "Get:21 http://archive.ubuntu.com/ubuntu bionic-updates/main amd64 libudev-dev amd64 237-3ubuntu10.43 [19.1 kB]\n",
            "Get:22 http://archive.ubuntu.com/ubuntu bionic/main amd64 libxcursor-dev amd64 1:1.1.15-1 [26.5 kB]\n",
            "Get:23 http://archive.ubuntu.com/ubuntu bionic/main amd64 x11proto-xinerama-dev all 2018.4-4 [2,628 B]\n",
            "Get:24 http://archive.ubuntu.com/ubuntu bionic/main amd64 libxinerama-dev amd64 2:1.1.3-1 [8,404 B]\n",
            "Get:25 http://archive.ubuntu.com/ubuntu bionic/main amd64 x11proto-randr-dev all 2018.4-4 [2,620 B]\n",
            "Get:26 http://archive.ubuntu.com/ubuntu bionic/main amd64 libxrandr-dev amd64 2:1.5.1-1 [24.0 kB]\n",
            "Get:27 http://archive.ubuntu.com/ubuntu bionic/main amd64 libxv-dev amd64 2:1.0.11-1 [32.5 kB]\n",
            "Get:28 http://archive.ubuntu.com/ubuntu bionic-updates/universe amd64 libsdl2-dev amd64 2.0.8+dfsg1-1ubuntu1.18.04.4 [683 kB]\n",
            "Get:29 http://archive.ubuntu.com/ubuntu bionic/universe amd64 libsdl2-gfx-1.0-0 amd64 1.0.4+dfsg-1 [29.9 kB]\n",
            "Get:30 http://archive.ubuntu.com/ubuntu bionic/universe amd64 libsdl2-gfx-dev amd64 1.0.4+dfsg-1 [29.8 kB]\n",
            "Get:31 http://archive.ubuntu.com/ubuntu bionic/universe amd64 libsdl2-ttf-2.0-0 amd64 2.0.14+dfsg1-2 [14.8 kB]\n",
            "Get:32 http://archive.ubuntu.com/ubuntu bionic/universe amd64 libsdl2-ttf-dev amd64 2.0.14+dfsg1-2 [19.7 kB]\n",
            "Fetched 3,919 kB in 0s (19.6 MB/s)\n",
            "Extracting templates from packages: 100%\n",
            "Selecting previously unselected package libibus-1.0-5:amd64.\n",
            "(Reading database ... 144865 files and directories currently installed.)\n",
            "Preparing to unpack .../00-libibus-1.0-5_1.5.17-3ubuntu5.3_amd64.deb ...\n",
            "Unpacking libibus-1.0-5:amd64 (1.5.17-3ubuntu5.3) ...\n",
            "Selecting previously unselected package gir1.2-ibus-1.0:amd64.\n",
            "Preparing to unpack .../01-gir1.2-ibus-1.0_1.5.17-3ubuntu5.3_amd64.deb ...\n",
            "Unpacking gir1.2-ibus-1.0:amd64 (1.5.17-3ubuntu5.3) ...\n",
            "Selecting previously unselected package libcapnp-0.6.1:amd64.\n",
            "Preparing to unpack .../02-libcapnp-0.6.1_0.6.1-1ubuntu1_amd64.deb ...\n",
            "Unpacking libcapnp-0.6.1:amd64 (0.6.1-1ubuntu1) ...\n",
            "Selecting previously unselected package libdbus-1-dev:amd64.\n",
            "Preparing to unpack .../03-libdbus-1-dev_1.12.2-1ubuntu1.2_amd64.deb ...\n",
            "Unpacking libdbus-1-dev:amd64 (1.12.2-1ubuntu1.2) ...\n",
            "Selecting previously unselected package libibus-1.0-dev:amd64.\n",
            "Preparing to unpack .../04-libibus-1.0-dev_1.5.17-3ubuntu5.3_amd64.deb ...\n",
            "Unpacking libibus-1.0-dev:amd64 (1.5.17-3ubuntu5.3) ...\n",
            "Selecting previously unselected package libmircore1:amd64.\n",
            "Preparing to unpack .../05-libmircore1_0.31.1-0ubuntu1_amd64.deb ...\n",
            "Unpacking libmircore1:amd64 (0.31.1-0ubuntu1) ...\n",
            "Selecting previously unselected package libmircommon7:amd64.\n",
            "Preparing to unpack .../06-libmircommon7_0.31.1-0ubuntu1_amd64.deb ...\n",
            "Unpacking libmircommon7:amd64 (0.31.1-0ubuntu1) ...\n",
            "Selecting previously unselected package libprotobuf-lite10:amd64.\n",
            "Preparing to unpack .../07-libprotobuf-lite10_3.0.0-9.1ubuntu1_amd64.deb ...\n",
            "Unpacking libprotobuf-lite10:amd64 (3.0.0-9.1ubuntu1) ...\n",
            "Selecting previously unselected package libmirprotobuf3:amd64.\n",
            "Preparing to unpack .../08-libmirprotobuf3_0.31.1-0ubuntu1_amd64.deb ...\n",
            "Unpacking libmirprotobuf3:amd64 (0.31.1-0ubuntu1) ...\n",
            "Selecting previously unselected package libmirclient9:amd64.\n",
            "Preparing to unpack .../09-libmirclient9_0.31.1-0ubuntu1_amd64.deb ...\n",
            "Unpacking libmirclient9:amd64 (0.31.1-0ubuntu1) ...\n",
            "Selecting previously unselected package libmircore-dev:amd64.\n",
            "Preparing to unpack .../10-libmircore-dev_0.31.1-0ubuntu1_amd64.deb ...\n",
            "Unpacking libmircore-dev:amd64 (0.31.1-0ubuntu1) ...\n",
            "Selecting previously unselected package libprotobuf-dev:amd64.\n",
            "Preparing to unpack .../11-libprotobuf-dev_3.0.0-9.1ubuntu1_amd64.deb ...\n",
            "Unpacking libprotobuf-dev:amd64 (3.0.0-9.1ubuntu1) ...\n",
            "Selecting previously unselected package libxkbcommon-dev:amd64.\n",
            "Preparing to unpack .../12-libxkbcommon-dev_0.8.2-1~ubuntu18.04.1_amd64.deb ...\n",
            "Unpacking libxkbcommon-dev:amd64 (0.8.2-1~ubuntu18.04.1) ...\n",
            "Selecting previously unselected package libmircommon-dev:amd64.\n",
            "Preparing to unpack .../13-libmircommon-dev_0.31.1-0ubuntu1_amd64.deb ...\n",
            "Unpacking libmircommon-dev:amd64 (0.31.1-0ubuntu1) ...\n",
            "Selecting previously unselected package libmircookie2:amd64.\n",
            "Preparing to unpack .../14-libmircookie2_0.31.1-0ubuntu1_amd64.deb ...\n",
            "Unpacking libmircookie2:amd64 (0.31.1-0ubuntu1) ...\n",
            "Selecting previously unselected package libmircookie-dev:amd64.\n",
            "Preparing to unpack .../15-libmircookie-dev_0.31.1-0ubuntu1_amd64.deb ...\n",
            "Unpacking libmircookie-dev:amd64 (0.31.1-0ubuntu1) ...\n",
            "Selecting previously unselected package libmirclient-dev:amd64.\n",
            "Preparing to unpack .../16-libmirclient-dev_0.31.1-0ubuntu1_amd64.deb ...\n",
            "Unpacking libmirclient-dev:amd64 (0.31.1-0ubuntu1) ...\n",
            "Selecting previously unselected package libpulse-mainloop-glib0:amd64.\n",
            "Preparing to unpack .../17-libpulse-mainloop-glib0_1%3a11.1-1ubuntu7.11_amd64.deb ...\n",
            "Unpacking libpulse-mainloop-glib0:amd64 (1:11.1-1ubuntu7.11) ...\n",
            "Selecting previously unselected package libpulse-dev:amd64.\n",
            "Preparing to unpack .../18-libpulse-dev_1%3a11.1-1ubuntu7.11_amd64.deb ...\n",
            "Unpacking libpulse-dev:amd64 (1:11.1-1ubuntu7.11) ...\n",
            "Selecting previously unselected package libsndio-dev:amd64.\n",
            "Preparing to unpack .../19-libsndio-dev_1.1.0-3_amd64.deb ...\n",
            "Unpacking libsndio-dev:amd64 (1.1.0-3) ...\n",
            "Selecting previously unselected package libudev-dev:amd64.\n",
            "Preparing to unpack .../20-libudev-dev_237-3ubuntu10.43_amd64.deb ...\n",
            "Unpacking libudev-dev:amd64 (237-3ubuntu10.43) ...\n",
            "Selecting previously unselected package libxcursor-dev:amd64.\n",
            "Preparing to unpack .../21-libxcursor-dev_1%3a1.1.15-1_amd64.deb ...\n",
            "Unpacking libxcursor-dev:amd64 (1:1.1.15-1) ...\n",
            "Selecting previously unselected package x11proto-xinerama-dev.\n",
            "Preparing to unpack .../22-x11proto-xinerama-dev_2018.4-4_all.deb ...\n",
            "Unpacking x11proto-xinerama-dev (2018.4-4) ...\n",
            "Selecting previously unselected package libxinerama-dev:amd64.\n",
            "Preparing to unpack .../23-libxinerama-dev_2%3a1.1.3-1_amd64.deb ...\n",
            "Unpacking libxinerama-dev:amd64 (2:1.1.3-1) ...\n",
            "Selecting previously unselected package x11proto-randr-dev.\n",
            "Preparing to unpack .../24-x11proto-randr-dev_2018.4-4_all.deb ...\n",
            "Unpacking x11proto-randr-dev (2018.4-4) ...\n",
            "Selecting previously unselected package libxrandr-dev:amd64.\n",
            "Preparing to unpack .../25-libxrandr-dev_2%3a1.5.1-1_amd64.deb ...\n",
            "Unpacking libxrandr-dev:amd64 (2:1.5.1-1) ...\n",
            "Selecting previously unselected package libxv-dev:amd64.\n",
            "Preparing to unpack .../26-libxv-dev_2%3a1.0.11-1_amd64.deb ...\n",
            "Unpacking libxv-dev:amd64 (2:1.0.11-1) ...\n",
            "Selecting previously unselected package libsdl2-dev:amd64.\n",
            "Preparing to unpack .../27-libsdl2-dev_2.0.8+dfsg1-1ubuntu1.18.04.4_amd64.deb ...\n",
            "Unpacking libsdl2-dev:amd64 (2.0.8+dfsg1-1ubuntu1.18.04.4) ...\n",
            "Selecting previously unselected package libsdl2-gfx-1.0-0:amd64.\n",
            "Preparing to unpack .../28-libsdl2-gfx-1.0-0_1.0.4+dfsg-1_amd64.deb ...\n",
            "Unpacking libsdl2-gfx-1.0-0:amd64 (1.0.4+dfsg-1) ...\n",
            "Selecting previously unselected package libsdl2-gfx-dev:amd64.\n",
            "Preparing to unpack .../29-libsdl2-gfx-dev_1.0.4+dfsg-1_amd64.deb ...\n",
            "Unpacking libsdl2-gfx-dev:amd64 (1.0.4+dfsg-1) ...\n",
            "Selecting previously unselected package libsdl2-ttf-2.0-0:amd64.\n",
            "Preparing to unpack .../30-libsdl2-ttf-2.0-0_2.0.14+dfsg1-2_amd64.deb ...\n",
            "Unpacking libsdl2-ttf-2.0-0:amd64 (2.0.14+dfsg1-2) ...\n",
            "Selecting previously unselected package libsdl2-ttf-dev:amd64.\n",
            "Preparing to unpack .../31-libsdl2-ttf-dev_2.0.14+dfsg1-2_amd64.deb ...\n",
            "Unpacking libsdl2-ttf-dev:amd64 (2.0.14+dfsg1-2) ...\n",
            "Setting up libdbus-1-dev:amd64 (1.12.2-1ubuntu1.2) ...\n",
            "Setting up libxcursor-dev:amd64 (1:1.1.15-1) ...\n",
            "Setting up libxkbcommon-dev:amd64 (0.8.2-1~ubuntu18.04.1) ...\n",
            "Setting up libsdl2-gfx-1.0-0:amd64 (1.0.4+dfsg-1) ...\n",
            "Setting up libpulse-mainloop-glib0:amd64 (1:11.1-1ubuntu7.11) ...\n",
            "Setting up libpulse-dev:amd64 (1:11.1-1ubuntu7.11) ...\n",
            "Setting up libmircore-dev:amd64 (0.31.1-0ubuntu1) ...\n",
            "Setting up libsndio-dev:amd64 (1.1.0-3) ...\n",
            "Setting up libmircookie2:amd64 (0.31.1-0ubuntu1) ...\n",
            "Setting up x11proto-xinerama-dev (2018.4-4) ...\n",
            "Setting up x11proto-randr-dev (2018.4-4) ...\n",
            "Setting up libxinerama-dev:amd64 (2:1.1.3-1) ...\n",
            "Setting up libxv-dev:amd64 (2:1.0.11-1) ...\n",
            "Setting up libcapnp-0.6.1:amd64 (0.6.1-1ubuntu1) ...\n",
            "Setting up libibus-1.0-5:amd64 (1.5.17-3ubuntu5.3) ...\n",
            "Setting up libsdl2-ttf-2.0-0:amd64 (2.0.14+dfsg1-2) ...\n",
            "Setting up libmircore1:amd64 (0.31.1-0ubuntu1) ...\n",
            "Setting up libprotobuf-lite10:amd64 (3.0.0-9.1ubuntu1) ...\n",
            "Setting up libudev-dev:amd64 (237-3ubuntu10.43) ...\n",
            "Setting up gir1.2-ibus-1.0:amd64 (1.5.17-3ubuntu5.3) ...\n",
            "Setting up libxrandr-dev:amd64 (2:1.5.1-1) ...\n",
            "Setting up libmirprotobuf3:amd64 (0.31.1-0ubuntu1) ...\n",
            "Setting up libprotobuf-dev:amd64 (3.0.0-9.1ubuntu1) ...\n",
            "Setting up libmircookie-dev:amd64 (0.31.1-0ubuntu1) ...\n",
            "Setting up libibus-1.0-dev:amd64 (1.5.17-3ubuntu5.3) ...\n",
            "Setting up libmircommon7:amd64 (0.31.1-0ubuntu1) ...\n",
            "Setting up libmirclient9:amd64 (0.31.1-0ubuntu1) ...\n",
            "Setting up libmircommon-dev:amd64 (0.31.1-0ubuntu1) ...\n",
            "Setting up libmirclient-dev:amd64 (0.31.1-0ubuntu1) ...\n",
            "Setting up libsdl2-dev:amd64 (2.0.8+dfsg1-1ubuntu1.18.04.4) ...\n",
            "Setting up libsdl2-ttf-dev:amd64 (2.0.14+dfsg1-2) ...\n",
            "Setting up libsdl2-gfx-dev:amd64 (1.0.4+dfsg-1) ...\n",
            "Processing triggers for man-db (2.8.3-2ubuntu0.1) ...\n",
            "Processing triggers for libc-bin (2.27-3ubuntu1.2) ...\n",
            "/sbin/ldconfig.real: /usr/local/lib/python3.6/dist-packages/ideep4py/lib/libmkldnn.so.0 is not a symbolic link\n",
            "\n",
            "Cloning into 'football'...\n",
            "remote: Enumerating objects: 2582, done.\u001b[K\n",
            "remote: Total 2582 (delta 0), reused 0 (delta 0), pack-reused 2582\u001b[K\n",
            "Receiving objects: 100% (2582/2582), 26.97 MiB | 10.76 MiB/s, done.\n",
            "Resolving deltas: 100% (1435/1435), done.\n",
            "--2020-12-11 21:54:40--  https://storage.googleapis.com/gfootball/prebuilt_gameplayfootball_v2.6.so\n",
            "Resolving storage.googleapis.com (storage.googleapis.com)... 74.125.143.128, 173.194.69.128, 173.194.79.128, ...\n",
            "Connecting to storage.googleapis.com (storage.googleapis.com)|74.125.143.128|:443... connected.\n",
            "HTTP request sent, awaiting response... 200 OK\n",
            "Length: 45244080 (43M) [application/octet-stream]\n",
            "Saving to: ‘football/third_party/gfootball_engine/lib/prebuilt_gameplayfootball.so’\n",
            "\n",
            "football/third_part 100%[===================>]  43.15M  31.8MB/s    in 1.4s    \n",
            "\n",
            "2020-12-11 21:54:42 (31.8 MB/s) - ‘football/third_party/gfootball_engine/lib/prebuilt_gameplayfootball.so’ saved [45244080/45244080]\n",
            "\n",
            "Processing /content/football\n",
            "Collecting pygame==1.9.6\n",
            "\u001b[?25l  Downloading https://files.pythonhosted.org/packages/8e/24/ede6428359f913ed9cd1643dd5533aefeb5a2699cc95bea089de50ead586/pygame-1.9.6-cp36-cp36m-manylinux1_x86_64.whl (11.4MB)\n",
            "\u001b[K     |████████████████████████████████| 11.4MB 10.0MB/s \n",
            "\u001b[?25hRequirement already satisfied: opencv-python in /usr/local/lib/python3.6/dist-packages (from gfootball==2.6) (4.1.2.30)\n",
            "Requirement already satisfied: scipy in /usr/local/lib/python3.6/dist-packages (from gfootball==2.6) (1.4.1)\n",
            "Requirement already satisfied: gym>=0.11.0 in /usr/local/lib/python3.6/dist-packages (from gfootball==2.6) (0.17.3)\n",
            "Requirement already satisfied: absl-py in /usr/local/lib/python3.6/dist-packages (from gfootball==2.6) (0.10.0)\n",
            "Requirement already satisfied: wheel in /usr/local/lib/python3.6/dist-packages (from gfootball==2.6) (0.36.1)\n",
            "Requirement already satisfied: numpy>=1.11.3 in /usr/local/lib/python3.6/dist-packages (from opencv-python->gfootball==2.6) (1.18.5)\n",
            "Requirement already satisfied: pyglet<=1.5.0,>=1.4.0 in /usr/local/lib/python3.6/dist-packages (from gym>=0.11.0->gfootball==2.6) (1.5.0)\n",
            "Requirement already satisfied: cloudpickle<1.7.0,>=1.2.0 in /usr/local/lib/python3.6/dist-packages (from gym>=0.11.0->gfootball==2.6) (1.3.0)\n",
            "Requirement already satisfied: six in /usr/local/lib/python3.6/dist-packages (from absl-py->gfootball==2.6) (1.15.0)\n",
            "Requirement already satisfied: future in /usr/local/lib/python3.6/dist-packages (from pyglet<=1.5.0,>=1.4.0->gym>=0.11.0->gfootball==2.6) (0.16.0)\n",
            "Building wheels for collected packages: gfootball\n",
            "  Building wheel for gfootball (setup.py) ... \u001b[?25l\u001b[?25hdone\n",
            "  Created wheel for gfootball: filename=gfootball-2.6-cp36-cp36m-linux_x86_64.whl size=38695892 sha256=60e646a82c11654ce75815f4942359c030beb2cf47cf90db2d4b87341ff2eb72\n",
            "  Stored in directory: /tmp/pip-ephem-wheel-cache-ld3d0lsf/wheels/41/ad/ae/8cf1d92b8694b10187e5daf33e8d5c248ffa5437e234ccbbee\n",
            "Successfully built gfootball\n",
            "Installing collected packages: pygame, gfootball\n",
            "Successfully installed gfootball-2.6 pygame-1.9.6\n"
          ],
          "name": "stdout"
        }
      ]
    },
    {
      "cell_type": "code",
      "metadata": {
        "id": "mvKffo3_4lIC"
      },
      "source": [
        ""
      ],
      "execution_count": null,
      "outputs": []
    },
    {
      "cell_type": "code",
      "metadata": {
        "colab": {
          "base_uri": "https://localhost:8080/"
        },
        "id": "HHoTX7594lFE",
        "outputId": "da2fad50-67a6-4ee7-f7b1-9f26d34cfbb1"
      },
      "source": [
        "import gfootball.env as football_env\r\n",
        "env = football_env.create_environment(env_name=\"academy_empty_goal_close\", stacked=False, logdir='/tmp/football', write_goal_dumps=False, write_full_episode_dumps=False, render=False)\r\n",
        "env.reset()\r\n",
        "steps = 110\r\n",
        "while True:\r\n",
        "  obs, rew, done, info = env.step(env.action_space.sample())\r\n",
        "  steps += 1\r\n",
        "  if steps % 100 == 0:\r\n",
        "    print(\"Step %d Reward: %f\" % (steps, rew))\r\n",
        "  if done:\r\n",
        "    break\r\n",
        "\r\n",
        "print(\"Steps: %d Reward: %.2f\" % (steps, rew))"
      ],
      "execution_count": 12,
      "outputs": [
        {
          "output_type": "stream",
          "text": [
            "Step 200 Reward: 0.000000\n",
            "Steps: 277 Reward: 0.00\n"
          ],
          "name": "stdout"
        }
      ]
    },
    {
      "cell_type": "code",
      "metadata": {
        "colab": {
          "base_uri": "https://localhost:8080/",
          "height": 1000
        },
        "id": "aUeJwg624lCQ",
        "outputId": "6f7960bf-1f2b-4132-800b-7de0d01ad626"
      },
      "source": [
        "import numpy as np\r\n",
        "import matplotlib.pyplot as plt\r\n",
        "import numpy as np\r\n",
        "\r\n",
        "\r\n",
        "\r\n",
        "env.reset()\r\n",
        "for i in range(10):\r\n",
        "  obs, rew, done, info = env.step(env.action_space.sample())\r\n",
        "  print(obs.shape)\r\n",
        "\r\n",
        "\r\n",
        "plt.imshow(obs[:,:,0], cmap='hot', interpolation='nearest')\r\n",
        "plt.show()\r\n",
        "print(np.matrix(obs[:,:,0]).argmax())\r\n",
        "# print(np.matrix(obs[j]))\r\n",
        "\r\n",
        "\r\n",
        "\r\n",
        "\r\n",
        "def init():\r\n",
        "    team_left.set_data([], [])\r\n",
        "    team_right.set_data([], [])\r\n",
        "    ball_owner.set_data([], [])\r\n",
        "    team_active.set_data([], [])\r\n",
        "    ball.set_data([], [])\r\n",
        "    return drawings \r\n",
        "\r\n",
        "def animate(i):\r\n",
        "  global prev_score_a, prev_score_b\r\n",
        "  obs = extract_data(output[i])\r\n",
        "\r\n",
        "  # Draw info about ball possesion\r\n",
        "  draw_ball_owner(obs, ball_owner, team_active)\r\n",
        "\r\n",
        "  # Draw players\r\n",
        "  draw_team(obs, team_left, \"left_team\")\r\n",
        "  draw_team(obs, team_right, \"right_team\")\r\n",
        "\r\n",
        "  draw_players_directions(obs, directions, \"left_team\")\r\n",
        "  draw_players_directions(obs, directions, \"right_team\")\r\n",
        "    \r\n",
        "  draw_ball(obs, ball)\r\n",
        "\r\n",
        "  # Draw textual informations\r\n",
        "  text_frame.set_text(f\"Frame: {i}/{obs['steps_left'] + i - 1}\")\r\n",
        "  game_mode.set_text(f\"Game mode: {obs['game_mode']}\")\r\n",
        "  \r\n",
        "  score_a, score_b = obs[\"score\"]\r\n",
        "  match_info.set_text(f\"Left team {score_a} : {score_b} Right Team\")\r\n",
        "\r\n",
        "  return drawings  \r\n",
        "\r\n",
        "\r\n",
        "# May take a while\r\n",
        "anim = animation.FuncAnimation(fig, animate, init_func=init,\r\n",
        "                               frames=10, interval=100, blit=True)\r\n",
        "\r\n",
        "HTML(anim.to_html5_video())"
      ],
      "execution_count": 25,
      "outputs": [
        {
          "output_type": "stream",
          "text": [
            "(72, 96, 4)\n",
            "(72, 96, 4)\n",
            "(72, 96, 4)\n",
            "(72, 96, 4)\n",
            "(72, 96, 4)\n",
            "(72, 96, 4)\n",
            "(72, 96, 4)\n",
            "(72, 96, 4)\n",
            "(72, 96, 4)\n",
            "(72, 96, 4)\n"
          ],
          "name": "stdout"
        },
        {
          "output_type": "display_data",
          "data": {
            "image/png": "[encoded data removed]",
            "text/plain": [
              "<Figure size 1440x1152 with 1 Axes>"
            ]
          },
          "metadata": {
            "tags": [],
            "needs_background": "light"
          }
        },
        {
          "output_type": "stream",
          "text": [
            "3445\n"
          ],
          "name": "stdout"
        }
      ]
    },
    {
      "cell_type": "code",
      "metadata": {
        "id": "Wzjux8Gp4k_b"
      },
      "source": [
        ""
      ],
      "execution_count": null,
      "outputs": []
    },
    {
      "cell_type": "code",
      "metadata": {
        "id": "_lxADpLo4k8f"
      },
      "source": [
        ""
      ],
      "execution_count": null,
      "outputs": []
    },
    {
      "cell_type": "code",
      "metadata": {
        "id": "RCpWTFY54kzw"
      },
      "source": [
        ""
      ],
      "execution_count": null,
      "outputs": []
    },
    {
      "cell_type": "code",
      "metadata": {
        "id": "c2Onh9DzzD-b"
      },
      "source": [
        "import matplotlib.patches as patches\r\n",
        "from  matplotlib.patches import Arc\r\n",
        "from matplotlib import pyplot as plt\r\n",
        "from matplotlib import animation\r\n",
        "import matplotlib.patches as mpatches\r\n",
        "\r\n",
        "# Change size of figure\r\n",
        "plt.rcParams['figure.figsize'] = [20, 16]\r\n",
        "def drawPitch(width, height, color=\"w\"):\r\n",
        "\r\n",
        "  fig = plt.figure()\r\n",
        "  ax = plt.axes(xlim=(-10, width + 10), ylim=(-15, height + 5))\r\n",
        "  plt.axis('off')\r\n",
        "\r\n",
        "  # Grass around pitch\r\n",
        "  rect = patches.Rectangle((-5,-5), width + 10, height + 10, linewidth=1, edgecolor='gray',facecolor='#3f995b', capstyle='round')\r\n",
        "  ax.add_patch(rect)\r\n",
        "\r\n",
        "  # Pitch boundaries\r\n",
        "  rect = plt.Rectangle((0, 0), width, height, ec=color, fc=\"None\", lw=2)\r\n",
        "  ax.add_patch(rect)\r\n",
        "\r\n",
        "  # Middle line\r\n",
        "  plt.plot([width/2, width/2], [0, height], color=color, linewidth=2)\r\n",
        "  \r\n",
        "  # Dots\r\n",
        "  dots_x = [11, width/2, width-11]\r\n",
        "  for x in dots_x:\r\n",
        "    plt.plot(x, height/2, 'o', color=color, linewidth=2)\r\n",
        "\r\n",
        "  # Penalty box  \r\n",
        "  penalty_box_dim = [16.5, 40.3]\r\n",
        "  penalty_box_pos_y = (height - penalty_box_dim[1]) / 2\r\n",
        "\r\n",
        "  rect = plt.Rectangle((0, penalty_box_pos_y), penalty_box_dim[0], penalty_box_dim[1], ec=color, fc=\"None\", lw=2)\r\n",
        "  ax.add_patch(rect)\r\n",
        "  rect = plt.Rectangle((width, penalty_box_pos_y), -penalty_box_dim[0], penalty_box_dim[1], ec=color, fc=\"None\", lw=2)\r\n",
        "  ax.add_patch(rect)\r\n",
        "\r\n",
        "  #Goal box\r\n",
        "  goal_box_dim = [5.5, penalty_box_dim[1] - 11 * 2]\r\n",
        "  goal_box_pos_y = (penalty_box_pos_y + 11)\r\n",
        "\r\n",
        "  rect = plt.Rectangle((0, goal_box_pos_y), goal_box_dim[0], goal_box_dim[1], ec=color, fc=\"None\", lw=2)\r\n",
        "  ax.add_patch(rect)\r\n",
        "  rect = plt.Rectangle((width, goal_box_pos_y), -goal_box_dim[0], goal_box_dim[1], ec=color, fc=\"None\", lw=2)\r\n",
        "  ax.add_patch(rect)\r\n",
        "\r\n",
        "  #Goals\r\n",
        "  rect = plt.Rectangle((0, penalty_box_pos_y + 16.5), -3, 7.5, ec=color, fc=color, lw=2, alpha=0.3)\r\n",
        "  ax.add_patch(rect)\r\n",
        "  rect = plt.Rectangle((width, penalty_box_pos_y + 16.5), 3, 7.5, ec=color, fc=color, lw=2, alpha=0.3)\r\n",
        "  ax.add_patch(rect)\r\n",
        "    \r\n",
        "  # Middle circle\r\n",
        "  mid_circle = plt.Circle([width/2, height/2], 9.15, color=color, fc=\"None\", lw=2)\r\n",
        "  ax.add_artist(mid_circle)\r\n",
        "\r\n",
        "\r\n",
        "  # Penalty box arcs\r\n",
        "  left  = patches.Arc([11, height/2], 2*9.15, 2*9.15, color=color, fc=\"None\", lw=2, angle=0, theta1=308, theta2=52)\r\n",
        "  ax.add_patch(left)\r\n",
        "  right = patches.Arc([width - 11, height/2], 2*9.15, 2*9.15, color=color, fc=\"None\", lw=2, angle=180, theta1=308, theta2=52)\r\n",
        "  ax.add_patch(right)\r\n",
        "\r\n",
        "  # Arcs on corners\r\n",
        "  corners = [[0, 0], [width, 0], [width, height], [0, height]]\r\n",
        "  angle = 0\r\n",
        "  for x,y in corners:\r\n",
        "    c = patches.Arc([x, y], 2, 2, color=color, fc=\"None\", lw=2, angle=angle,theta1=0, theta2=90)\r\n",
        "    ax.add_patch(c)\r\n",
        "    angle += 90\r\n",
        "  return fig, ax"
      ],
      "execution_count": 2,
      "outputs": []
    },
    {
      "cell_type": "code",
      "metadata": {
        "colab": {
          "base_uri": "https://localhost:8080/",
          "height": 935
        },
        "id": "4w90AGmUzD8Q",
        "outputId": "021100e2-b0f2-455a-db41-e3e1c40ac03a"
      },
      "source": [
        "WIDTH = 105\r\n",
        "HEIGHT = 68\r\n",
        "\r\n",
        "drawPitch(WIDTH, HEIGHT)"
      ],
      "execution_count": 3,
      "outputs": [
        {
          "output_type": "execute_result",
          "data": {
            "text/plain": [
              "(<Figure size 1440x1152 with 1 Axes>,\n",
              " <matplotlib.axes._subplots.AxesSubplot at 0x7fd2500f7be0>)"
            ]
          },
          "metadata": {
            "tags": []
          },
          "execution_count": 3
        },
        {
          "output_type": "display_data",
          "data": {
            "image/png": "[encoded data removed]",
            "text/plain": [
              "<Figure size 1440x1152 with 1 Axes>"
            ]
          },
          "metadata": {
            "tags": [],
            "needs_background": "light"
          }
        }
      ]
    },
    {
      "cell_type": "code",
      "metadata": {
        "id": "sQi6MCVizD5C"
      },
      "source": [
        "from enum import Enum\r\n",
        "\r\n",
        "X_RESIZE = WIDTH\r\n",
        "Y_RESIZE = HEIGHT / 0.42\r\n",
        "\r\n",
        "class GameMode(Enum):\r\n",
        "    Normal = 0\r\n",
        "    KickOff = 1\r\n",
        "    GoalKick = 2\r\n",
        "    FreeKick = 3\r\n",
        "    Corner = 4\r\n",
        "    ThrowIn = 5\r\n",
        "    Penalty = 6\r\n",
        "\r\n",
        "def scale_x(x):\r\n",
        "  return (x + 1) * (X_RESIZE/2)\r\n",
        "\r\n",
        "def scale_y(y):\r\n",
        "  return (y + 0.42) * (Y_RESIZE/2)\r\n",
        "\r\n",
        "\r\n",
        "def extract_data(frame):\r\n",
        "  res = {}\r\n",
        "  obs = frame[0]['observation']['players_raw'][0]\r\n",
        "  res[\"left_team\"] = [(scale_x(x), scale_y(y)) for x, y in obs[\"left_team\"]]\r\n",
        "  res[\"right_team\"] = [(scale_x(x), scale_y(y)) for x, y in obs[\"right_team\"]]\r\n",
        "\r\n",
        "  ball_x, ball_y, ball_z = obs[\"ball\"]\r\n",
        "  res[\"ball\"] = [scale_x(ball_x),  scale_y(ball_y), ball_z]\r\n",
        "  res[\"score\"] = obs[\"score\"]\r\n",
        "  res[\"steps_left\"] = obs[\"steps_left\"]\r\n",
        "  res[\"ball_owned_team\"] = obs[\"ball_owned_team\"]\r\n",
        "  res[\"ball_owned_player\"] = obs[\"ball_owned_player\"]\r\n",
        "  res[\"right_team_roles\"] = obs[\"right_team_roles\"]\r\n",
        "  res[\"left_team_roles\"] = obs[\"left_team_roles\"]\r\n",
        "  res[\"left_team_direction\"] = obs[\"left_team_direction\"]\r\n",
        "  res[\"right_team_direction\"] = obs[\"right_team_direction\"]\r\n",
        "  res[\"game_mode\"] = GameMode(obs[\"game_mode\"]).name\r\n",
        "  return res"
      ],
      "execution_count": 5,
      "outputs": []
    },
    {
      "cell_type": "code",
      "metadata": {
        "id": "1iJqBWho4Rf_"
      },
      "source": [
        ""
      ],
      "execution_count": null,
      "outputs": []
    },
    {
      "cell_type": "code",
      "metadata": {
        "id": "Sv3CoCli4RXF"
      },
      "source": [
        ""
      ],
      "execution_count": null,
      "outputs": []
    },
    {
      "cell_type": "code",
      "metadata": {
        "id": "nJVhVTVyzD2D"
      },
      "source": [
        "import math\r\n",
        "\r\n",
        "\r\n",
        "def draw_team(obs, team, side):\r\n",
        "  X = []\r\n",
        "  Y = []\r\n",
        "  for x, y in obs[side]:\r\n",
        "    X.append(x)\r\n",
        "    Y.append(y)\r\n",
        "  team.set_data(X, Y)\r\n",
        "\r\n",
        "def draw_ball(obs, ball):\r\n",
        "  ball.set_markersize(10 + 5 * obs[\"ball\"][2]) # Scale size of ball based on height\r\n",
        "  ball.set_data(obs[\"ball\"][:2])\r\n",
        "\r\n",
        "def draw_ball_owner(obs, ball_owner, team_active):\r\n",
        "  if obs[\"ball_owned_team\"] == 0:\r\n",
        "    x, y = obs[\"left_team\"][obs[\"ball_owned_player\"]]\r\n",
        "    ball_owner.set_data(x, y)\r\n",
        "    team_active.set_data(WIDTH / 4 + 7, -7)\r\n",
        "    team_active.set_markerfacecolor(\"red\")\r\n",
        "  elif obs[\"ball_owned_team\"] == 1:\r\n",
        "    x, y = obs[\"right_team\"][obs[\"ball_owned_player\"]]\r\n",
        "    ball_owner.set_data(x, y)\r\n",
        "    team_active.set_data(WIDTH / 4 + 50, -7)\r\n",
        "    team_active.set_markerfacecolor(\"blue\")\r\n",
        "  else:\r\n",
        "    ball_owner.set_data([], [])\r\n",
        "    team_active.set_data([], [])\r\n",
        "    \r\n",
        "def draw_players_directions(obs, directions, side):\r\n",
        "  index = 0\r\n",
        "  if \"right\" in side:\r\n",
        "    index = 11\r\n",
        "  for i, player_dir in enumerate(obs[f\"{side}_direction\"]):\r\n",
        "    x_dir, y_dir = player_dir\r\n",
        "    dist = math.sqrt(x_dir ** 2 + y_dir ** 2) + 0.00001 # to prevent division by 0\r\n",
        "    x = obs[side][i][0]\r\n",
        "    y = obs[side][i][1] \r\n",
        "    directions[i + index].set_data([x, x + x_dir / dist ], [y, y + y_dir / dist])"
      ],
      "execution_count": 6,
      "outputs": []
    },
    {
      "cell_type": "code",
      "metadata": {
        "colab": {
          "base_uri": "https://localhost:8080/",
          "height": 901
        },
        "id": "-K1Fejb4zDzb",
        "outputId": "3c0e4398-42a2-4270-c2fb-e99d11aaac91"
      },
      "source": [
        "import numpy as np\r\n",
        "from IPython.display import HTML\r\n",
        "\r\n",
        "fig, ax = drawPitch(WIDTH, HEIGHT)\r\n",
        "ax.invert_yaxis()\r\n",
        "\r\n",
        "ball_owner, = ax.plot([], [], 'o', markersize=30,  markerfacecolor=\"yellow\", alpha=0.5)\r\n",
        "team_active, = ax.plot([], [], 'o', markersize=30,  markerfacecolor=\"blue\", markeredgecolor=\"None\")\r\n",
        "\r\n",
        "team_left, = ax.plot([], [], 'o', markersize=20, markerfacecolor=\"r\", markeredgewidth=2, markeredgecolor=\"white\")\r\n",
        "team_right, = ax.plot([], [], 'o', markersize=20,  markerfacecolor=\"b\", markeredgewidth=2, markeredgecolor=\"white\")\r\n",
        "\r\n",
        "ball, = ax.plot([], [], 'o', markersize=10,  markerfacecolor=\"black\", markeredgewidth=2, markeredgecolor=\"white\")\r\n",
        "text_frame = ax.text(-5, -5, '', fontsize=25)\r\n",
        "match_info = ax.text(105 / 4 + 10, -5, '', fontsize=25)\r\n",
        "game_mode = ax.text(105 - 25, -5, '', fontsize=25)\r\n",
        "goal_notification = ax.text(105 / 4 + 10, 0, '', fontsize=25)\r\n",
        "\r\n",
        "# Drawing of directions definitely can be done in a better way\r\n",
        "directions = []\r\n",
        "for i in range(22):\r\n",
        "  direction, = ax.plot([], [], color='yellow', lw=3)\r\n",
        "  directions.append(direction)\r\n",
        "\r\n",
        "  \r\n",
        "drawings = [team_active, ball_owner, team_left, team_right, ball, text_frame, match_info, game_mode, goal_notification]\r\n",
        "\r\n",
        "def init():\r\n",
        "    team_left.set_data([], [])\r\n",
        "    team_right.set_data([], [])\r\n",
        "    ball_owner.set_data([], [])\r\n",
        "    team_active.set_data([], [])\r\n",
        "    ball.set_data([], [])\r\n",
        "    return drawings \r\n",
        "\r\n",
        "\"running_in_notebook\": True, \"episodeSteps\": 1000}, debug=True)\r\n",
        "output = env.run([agent, agent])"
      ],
      "execution_count": 8,
      "outputs": [
        {
          "output_type": "display_data",
          "data": {
            "image/png": "[encoded data removed]",
            "text/plain": [
              "<Figure size 1440x1152 with 1 Axes>"
            ]
          },
          "metadata": {
            "tags": [],
            "needs_background": "light"
          }
        }
      ]
    },
    {
      "cell_type": "markdown",
      "metadata": {
        "id": "Yu5egf5O2JA8"
      },
      "source": [
        ""
      ]
    },
    {
      "cell_type": "code",
      "metadata": {
        "id": "wuxvtHC_zDwB"
      },
      "source": [
        ""
      ],
      "execution_count": null,
      "outputs": []
    },
    {
      "cell_type": "code",
      "metadata": {
        "id": "Tu7D9ODWzDmw"
      },
      "source": [
        ""
      ],
      "execution_count": null,
      "outputs": []
    }
  ]
}